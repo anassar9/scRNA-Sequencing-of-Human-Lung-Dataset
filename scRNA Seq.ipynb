{
 "cells": [
  {
   "cell_type": "markdown",
   "metadata": {
    "id": "S9yuBUeiEE5Q"
   },
   "source": [
    "1. Preprocessing\n",
    "2. Clustering with one sample\n",
    "3. Untegration of multiple samples\n",
    "4. Find marker genes\n",
    "5. Plot marker genes\n",
    "6. Cell labeling\n",
    "7. Count the fraction of cells\n",
    "8. Differential expression between two different group of cells\n",
    "9. DE heatmaps\n",
    "10. Gene ontology\n",
    "11. Kegg enrichment\n",
    "12. Comapre genes and different conditions w/ statistical testing\n",
    "13. Score & plot cells based on expression of gene signatures\n",
    "\n",
    "\n"
   ]
  },
  {
   "cell_type": "markdown",
   "metadata": {
    "id": "iqrqFxUfF7dq"
   },
   "source": [
    "Single cells data --> matrix of cells (columns) x genes (rows)\n",
    "file types --> .h5 (features) , .gz (barcodes, features, matrix)\n",
    "\n",
    "10x pipeline --> filtered gene count matrix (feature matrix)\n",
    "\n",
    "We start w/ raw count CSVs --> cells barcodes (columns) x genes (rows)\n",
    "* what is a control sample?\n",
    "\n"
   ]
  },
  {
   "cell_type": "code",
   "execution_count": 8,
   "metadata": {
    "colab": {
     "base_uri": "https://localhost:8080/"
    },
    "id": "nBTRoy75iHE4",
    "outputId": "18e3f058-d600-4da1-beba-ab8a3e9f007a"
   },
   "outputs": [
    {
     "name": "stdout",
     "output_type": "stream",
     "text": [
      "Name: scikit-misc\n",
      "Version: 0.3.0\n",
      "Summary: Miscellaneous tools for scientific computing.\n",
      "Home-page: https://has2k1.github.io/scikit-misc/stable\n",
      "Author: \n",
      "Author-email: Hassan Kibirige <has2k1@gmail.com>\n",
      "License: Copyright (c) 2016, Hassan Kibirige\n",
      "        All rights reserved.\n",
      "        \n",
      "        Redistribution and use in source and binary forms, with or without\n",
      "        modification, are permitted provided that the following conditions are met:\n",
      "        \n",
      "         * Redistributions of source code must retain the above copyright notice,\n",
      "           this list of conditions and the following disclaimer.\n",
      "         * Redistributions in binary form must reproduce the above copyright\n",
      "           notice, this list of conditions and the following disclaimer in the\n",
      "           documentation and/or other materials provided with the distribution.\n",
      "         * Neither the name of  nor the names of its contributors may be used to\n",
      "           endorse or promote products derived from this software without specific\n",
      "           prior written permission.\n",
      "        \n",
      "        THIS SOFTWARE IS PROVIDED BY THE COPYRIGHT HOLDERS AND CONTRIBUTORS \"AS IS\"\n",
      "        AND ANY EXPRESS OR IMPLIED WARRANTIES, INCLUDING, BUT NOT LIMITED TO, THE\n",
      "        IMPLIED WARRANTIES OF MERCHANTABILITY AND FITNESS FOR A PARTICULAR PURPOSE\n",
      "        ARE DISCLAIMED. IN NO EVENT SHALL THE COPYRIGHT OWNER OR CONTRIBUTORS BE\n",
      "        LIABLE FOR ANY DIRECT, INDIRECT, INCIDENTAL, SPECIAL, EXEMPLARY, OR\n",
      "        CONSEQUENTIAL DAMAGES (INCLUDING, BUT NOT LIMITED TO, PROCUREMENT OF\n",
      "        SUBSTITUTE GOODS OR SERVICES; LOSS OF USE, DATA, OR PROFITS; OR BUSINESS\n",
      "        INTERRUPTION) HOWEVER CAUSED AND ON ANY THEORY OF LIABILITY, WHETHER IN\n",
      "        CONTRACT, STRICT LIABILITY, OR TORT (INCLUDING NEGLIGENCE OR OTHERWISE)\n",
      "        ARISING IN ANY WAY OUT OF THE USE OF THIS SOFTWARE, EVEN IF ADVISED OF THE\n",
      "        POSSIBILITY OF SUCH DAMAGE.\n",
      "Location: /usr/local/python/3.10.8/lib/python3.10/site-packages\n",
      "Requires: numpy\n",
      "Required-by: \n",
      "Note: you may need to restart the kernel to use updated packages.\n"
     ]
    }
   ],
   "source": [
    "%pip show scikit-misc"
   ]
  },
  {
   "cell_type": "code",
   "execution_count": 9,
   "metadata": {
    "colab": {
     "base_uri": "https://localhost:8080/"
    },
    "id": "1I55floaSwAf",
    "outputId": "6a5dcaf5-3e94-4cfc-ca9c-36ba6266afa4"
   },
   "outputs": [
    {
     "name": "stdout",
     "output_type": "stream",
     "text": [
      "Name: scanpy\n",
      "Version: 1.9.4\n",
      "Summary: Single-Cell Analysis in Python.\n",
      "Home-page: \n",
      "Author: Alex Wolf, Philipp Angerer, Fidel Ramirez, Isaac Virshup, Sergei Rybakov, Gokcen Eraslan, Tom White, Malte Luecken, Davide Cittaro, Tobias Callies, Marius Lange, Andrés R. Muñoz-Rojas\n",
      "Author-email: \n",
      "License: \n",
      "Location: /usr/local/python/3.10.8/lib/python3.10/site-packages\n",
      "Requires: anndata, h5py, joblib, matplotlib, natsort, networkx, numba, numpy, packaging, pandas, patsy, scikit-learn, scipy, seaborn, session-info, statsmodels, tqdm, umap-learn\n",
      "Required-by: \n"
     ]
    }
   ],
   "source": [
    "!pip show scanpy"
   ]
  },
  {
   "cell_type": "code",
   "execution_count": 1,
   "metadata": {
    "colab": {
     "base_uri": "https://localhost:8080/"
    },
    "id": "bN8TAN_Ff_pU",
    "outputId": "1c6de8b9-99cc-4e0e-fa16-991c172aee6c"
   },
   "outputs": [
    {
     "name": "stdout",
     "output_type": "stream",
     "text": [
      "--2023-09-04 01:26:44--  http://ftp.ncbi.nlm.nih.gov/geo/series/GSE171nnn/GSE171524/suppl/GSE171524_RAW.tar\n",
      "Resolving ftp.ncbi.nlm.nih.gov (ftp.ncbi.nlm.nih.gov)... 130.14.250.10, 130.14.250.12, 2607:f220:41e:250::12, ...\n",
      "Connecting to ftp.ncbi.nlm.nih.gov (ftp.ncbi.nlm.nih.gov)|130.14.250.10|:80... connected.\n",
      "HTTP request sent, awaiting response... 301 Moved Permanently\n",
      "Location: https://ftp.ncbi.nlm.nih.gov/geo/series/GSE171nnn/GSE171524/suppl/GSE171524_RAW.tar [following]\n",
      "--2023-09-04 01:26:45--  https://ftp.ncbi.nlm.nih.gov/geo/series/GSE171nnn/GSE171524/suppl/GSE171524_RAW.tar\n",
      "Connecting to ftp.ncbi.nlm.nih.gov (ftp.ncbi.nlm.nih.gov)|130.14.250.10|:443... connected.\n",
      "HTTP request sent, awaiting response... 200 OK\n",
      "Length: 169728000 (162M) [application/x-tar]\n",
      "Saving to: ‘GSE171524_RAW.tar’\n",
      "\n",
      "GSE171524_RAW.tar   100%[===================>] 161.87M  35.7MB/s    in 5.1s    \n",
      "\n",
      "2023-09-04 01:26:50 (31.7 MB/s) - ‘GSE171524_RAW.tar’ saved [169728000/169728000]\n",
      "\n"
     ]
    }
   ],
   "source": [
    "!wget ftp.ncbi.nlm.nih.gov/geo/series/GSE171nnn/GSE171524/suppl/GSE171524_RAW.tar"
   ]
  },
  {
   "cell_type": "code",
   "execution_count": 2,
   "metadata": {
    "colab": {
     "base_uri": "https://localhost:8080/"
    },
    "id": "wGrys2bvgAQ1",
    "outputId": "0b781181-4b25-429e-fe8c-54da0825c610"
   },
   "outputs": [
    {
     "name": "stdout",
     "output_type": "stream",
     "text": [
      "GSM5226574_C51ctr_raw_counts.csv.gz\n",
      "GSM5226575_C52ctr_raw_counts.csv.gz\n",
      "GSM5226576_C53ctr_raw_counts.csv.gz\n"
     ]
    },
    {
     "name": "stdout",
     "output_type": "stream",
     "text": [
      "GSM5226577_C54ctr_raw_counts.csv.gz\n",
      "GSM5226578_C55ctr_raw_counts.csv.gz\n",
      "GSM5226579_C56ctr_raw_counts.csv.gz\n",
      "GSM5226580_C57ctr_raw_counts.csv.gz\n",
      "GSM5226581_L01cov_raw_counts.csv.gz\n",
      "GSM5226582_L03cov_raw_counts.csv.gz\n",
      "GSM5226583_L04cov_raw_counts.csv.gz\n",
      "GSM5226584_L04covaddon_raw_counts.csv.gz\n",
      "GSM5226585_L05cov_raw_counts.csv.gz\n",
      "GSM5226586_L06cov_raw_counts.csv.gz\n",
      "GSM5226587_L07cov_raw_counts.csv.gz\n",
      "GSM5226588_L08cov_raw_counts.csv.gz\n",
      "GSM5226589_L09cov_raw_counts.csv.gz\n",
      "GSM5226590_L10cov_raw_counts.csv.gz\n",
      "GSM5226591_L11cov_raw_counts.csv.gz\n",
      "GSM5226592_L12cov_raw_counts.csv.gz\n",
      "GSM5226593_L13cov_raw_counts.csv.gz\n",
      "GSM5226594_L15cov_raw_counts.csv.gz\n",
      "GSM5226595_L16cov_raw_counts.csv.gz\n",
      "GSM5226596_L17cov_raw_counts.csv.gz\n",
      "GSM5226597_L18cov_raw_counts.csv.gz\n",
      "GSM5226598_L19cov_raw_counts.csv.gz\n",
      "GSM5226599_L21cov_raw_counts.csv.gz\n",
      "GSM5226600_L22cov_raw_counts.csv.gz\n"
     ]
    }
   ],
   "source": [
    "!tar xvf GSE171524_RAW.tar"
   ]
  },
  {
   "cell_type": "code",
   "execution_count": 3,
   "metadata": {
    "id": "7K6sWn83gFqf"
   },
   "outputs": [],
   "source": [
    "!gzip -d GSM5226574_C51ctr_raw_counts.csv.gz"
   ]
  },
  {
   "cell_type": "code",
   "execution_count": 10,
   "metadata": {},
   "outputs": [
    {
     "name": "stdout",
     "output_type": "stream",
     "text": [
      "/workspaces/scRNA-Sequencing-of-Human-Lung-Dataset\n"
     ]
    }
   ],
   "source": [
    "import os\n",
    "print(os.getcwd())"
   ]
  },
  {
   "cell_type": "code",
   "execution_count": 1,
   "metadata": {
    "id": "yOFwdnfYgHJO"
   },
   "outputs": [],
   "source": [
    "import scanpy as sc"
   ]
  },
  {
   "cell_type": "code",
   "execution_count": 2,
   "metadata": {
    "colab": {
     "base_uri": "https://localhost:8080/"
    },
    "id": "Ge048lyMgO4u",
    "outputId": "afe6b504-99d2-46dc-a48f-4aaee3dfcfa0"
   },
   "outputs": [
    {
     "data": {
      "text/plain": [
       "AnnData object with n_obs × n_vars = 6099 × 34546"
      ]
     },
     "execution_count": 2,
     "metadata": {},
     "output_type": "execute_result"
    }
   ],
   "source": [
    "# Read in data\n",
    "# .T = Transpose -- Scanpy requires the columns to be genes, the rows to be cells\n",
    "adata = sc.read_csv('/workspaces/scRNA-Sequencing-of-Human-Lung-Dataset/GSM5226574_C51ctr_raw_counts.csv').T\n",
    "# Call the object as the last line in a cell (works in jupyter notebook)\n",
    "adata\n",
    "\n",
    "# adata has 3 components -- adata.obs (cell barcodes) / adata.var (genes) / adata.X (counts)(numpy array)\n",
    "# adata.X.shape = check the matrix"
   ]
  },
  {
   "cell_type": "markdown",
   "metadata": {
    "id": "TTuHAMirTTmZ"
   },
   "source": [
    "# Doublet Removal - Optional but recommended\n",
    "1. use the Solo package with Scvi\n",
    "2. DON'T on integrated sample - use on individual samples, integrate them afterwards\n",
    "3. Filter out the genes and train a model\n",
    "4. Narrow down the number of genes\n",
    "5. Keep genes that are found in at least 10 cells\n"
   ]
  },
  {
   "cell_type": "code",
   "execution_count": 3,
   "metadata": {
    "colab": {
     "base_uri": "https://localhost:8080/"
    },
    "id": "7PBRGp6BgPT5",
    "outputId": "0034d132-57ce-4622-bb91-d08351441717"
   },
   "outputs": [
    {
     "name": "stdout",
     "output_type": "stream",
     "text": [
      "Requirement already satisfied: scvi-tools in /usr/local/python/3.10.8/lib/python3.10/site-packages (1.0.3)\n",
      "Requirement already satisfied: anndata>=0.7.5 in /usr/local/python/3.10.8/lib/python3.10/site-packages (from scvi-tools) (0.9.2)\n",
      "Requirement already satisfied: chex<=0.1.8 in /usr/local/python/3.10.8/lib/python3.10/site-packages (from scvi-tools) (0.1.7)\n",
      "Requirement already satisfied: docrep>=0.3.2 in /usr/local/python/3.10.8/lib/python3.10/site-packages (from scvi-tools) (0.3.2)\n",
      "Requirement already satisfied: flax in /usr/local/python/3.10.8/lib/python3.10/site-packages (from scvi-tools) (0.7.2)\n",
      "Requirement already satisfied: h5py>=2.9.0 in /usr/local/python/3.10.8/lib/python3.10/site-packages (from scvi-tools) (3.9.0)\n",
      "Requirement already satisfied: jax>=0.4.4 in /usr/local/python/3.10.8/lib/python3.10/site-packages (from scvi-tools) (0.4.14)\n",
      "Requirement already satisfied: jaxlib>=0.4.3 in /usr/local/python/3.10.8/lib/python3.10/site-packages (from scvi-tools) (0.4.14)\n",
      "Requirement already satisfied: lightning<2.1,>=2.0 in /usr/local/python/3.10.8/lib/python3.10/site-packages (from scvi-tools) (2.0.8)\n",
      "Requirement already satisfied: ml-collections>=0.1.1 in /usr/local/python/3.10.8/lib/python3.10/site-packages (from scvi-tools) (0.1.1)\n",
      "Requirement already satisfied: mudata>=0.1.2 in /usr/local/python/3.10.8/lib/python3.10/site-packages (from scvi-tools) (0.2.3)\n",
      "Requirement already satisfied: numpy>=1.21.0 in /usr/local/python/3.10.8/lib/python3.10/site-packages (from scvi-tools) (1.24.4)\n",
      "Requirement already satisfied: numpyro>=0.12.1 in /usr/local/python/3.10.8/lib/python3.10/site-packages (from scvi-tools) (0.13.0)\n",
      "Requirement already satisfied: optax in /usr/local/python/3.10.8/lib/python3.10/site-packages (from scvi-tools) (0.1.7)\n",
      "Requirement already satisfied: pandas>=1.0 in /home/codespace/.local/lib/python3.10/site-packages (from scvi-tools) (2.0.3)\n",
      "Requirement already satisfied: pyro-ppl>=1.6.0 in /usr/local/python/3.10.8/lib/python3.10/site-packages (from scvi-tools) (1.8.6)\n",
      "Requirement already satisfied: rich>=12.0.0 in /usr/local/python/3.10.8/lib/python3.10/site-packages (from scvi-tools) (13.5.2)\n",
      "Requirement already satisfied: scikit-learn>=0.21.2 in /home/codespace/.local/lib/python3.10/site-packages (from scvi-tools) (1.3.0)\n",
      "Requirement already satisfied: scipy in /home/codespace/.local/lib/python3.10/site-packages (from scvi-tools) (1.11.2)\n",
      "Requirement already satisfied: sparse>=0.14.0 in /usr/local/python/3.10.8/lib/python3.10/site-packages (from scvi-tools) (0.14.0)\n",
      "Requirement already satisfied: torch>=1.8.0 in /home/codespace/.local/lib/python3.10/site-packages (from scvi-tools) (2.0.1)\n",
      "Requirement already satisfied: torchmetrics>=0.11.0 in /usr/local/python/3.10.8/lib/python3.10/site-packages (from scvi-tools) (1.1.1)\n",
      "Requirement already satisfied: tqdm>=4.56.0 in /usr/local/python/3.10.8/lib/python3.10/site-packages (from scvi-tools) (4.66.1)\n",
      "Requirement already satisfied: xarray>=2023.2.0 in /usr/local/python/3.10.8/lib/python3.10/site-packages (from scvi-tools) (2023.8.0)\n",
      "Requirement already satisfied: natsort in /usr/local/python/3.10.8/lib/python3.10/site-packages (from anndata>=0.7.5->scvi-tools) (8.4.0)\n",
      "Requirement already satisfied: packaging>=20 in /home/codespace/.local/lib/python3.10/site-packages (from anndata>=0.7.5->scvi-tools) (23.1)\n",
      "Requirement already satisfied: absl-py>=0.9.0 in /usr/local/python/3.10.8/lib/python3.10/site-packages (from chex<=0.1.8->scvi-tools) (1.4.0)\n",
      "Requirement already satisfied: dm-tree>=0.1.5 in /usr/local/python/3.10.8/lib/python3.10/site-packages (from chex<=0.1.8->scvi-tools) (0.1.8)\n",
      "Requirement already satisfied: toolz>=0.9.0 in /usr/local/python/3.10.8/lib/python3.10/site-packages (from chex<=0.1.8->scvi-tools) (0.12.0)\n",
      "Requirement already satisfied: typing-extensions>=4.2.0 in /home/codespace/.local/lib/python3.10/site-packages (from chex<=0.1.8->scvi-tools) (4.7.1)\n",
      "Requirement already satisfied: six in /home/codespace/.local/lib/python3.10/site-packages (from docrep>=0.3.2->scvi-tools) (1.16.0)\n",
      "Requirement already satisfied: ml-dtypes>=0.2.0 in /usr/local/python/3.10.8/lib/python3.10/site-packages (from jax>=0.4.4->scvi-tools) (0.2.0)\n",
      "Requirement already satisfied: opt-einsum in /usr/local/python/3.10.8/lib/python3.10/site-packages (from jax>=0.4.4->scvi-tools) (3.3.0)\n",
      "Requirement already satisfied: Jinja2<5.0 in /home/codespace/.local/lib/python3.10/site-packages (from lightning<2.1,>=2.0->scvi-tools) (3.1.2)\n",
      "Requirement already satisfied: PyYAML<8.0 in /home/codespace/.local/lib/python3.10/site-packages (from lightning<2.1,>=2.0->scvi-tools) (6.0.1)\n",
      "Requirement already satisfied: arrow<3.0,>=1.2.0 in /home/codespace/.local/lib/python3.10/site-packages (from lightning<2.1,>=2.0->scvi-tools) (1.2.3)\n",
      "Requirement already satisfied: backoff<4.0,>=2.2.1 in /usr/local/python/3.10.8/lib/python3.10/site-packages (from lightning<2.1,>=2.0->scvi-tools) (2.2.1)\n",
      "Requirement already satisfied: beautifulsoup4<6.0,>=4.8.0 in /home/codespace/.local/lib/python3.10/site-packages (from lightning<2.1,>=2.0->scvi-tools) (4.12.2)\n",
      "Requirement already satisfied: click<10.0 in /usr/local/python/3.10.8/lib/python3.10/site-packages (from lightning<2.1,>=2.0->scvi-tools) (8.1.7)\n",
      "Requirement already satisfied: croniter<1.5.0,>=1.3.0 in /usr/local/python/3.10.8/lib/python3.10/site-packages (from lightning<2.1,>=2.0->scvi-tools) (1.4.1)\n",
      "Requirement already satisfied: dateutils<2.0 in /usr/local/python/3.10.8/lib/python3.10/site-packages (from lightning<2.1,>=2.0->scvi-tools) (0.6.12)\n",
      "Requirement already satisfied: deepdiff<8.0,>=5.7.0 in /usr/local/python/3.10.8/lib/python3.10/site-packages (from lightning<2.1,>=2.0->scvi-tools) (6.4.1)\n",
      "Requirement already satisfied: fastapi<2.0,>=0.92.0 in /usr/local/python/3.10.8/lib/python3.10/site-packages (from lightning<2.1,>=2.0->scvi-tools) (0.103.1)\n",
      "Requirement already satisfied: fsspec<2025.0,>=2022.5.0 in /usr/local/python/3.10.8/lib/python3.10/site-packages (from lightning<2.1,>=2.0->scvi-tools) (2023.9.0)\n",
      "Requirement already satisfied: inquirer<5.0,>=2.10.0 in /usr/local/python/3.10.8/lib/python3.10/site-packages (from lightning<2.1,>=2.0->scvi-tools) (3.1.3)\n",
      "Requirement already satisfied: lightning-cloud>=0.5.37 in /usr/local/python/3.10.8/lib/python3.10/site-packages (from lightning<2.1,>=2.0->scvi-tools) (0.5.37)\n",
      "Requirement already satisfied: lightning-utilities<2.0,>=0.7.0 in /usr/local/python/3.10.8/lib/python3.10/site-packages (from lightning<2.1,>=2.0->scvi-tools) (0.9.0)\n",
      "Requirement already satisfied: psutil<7.0 in /home/codespace/.local/lib/python3.10/site-packages (from lightning<2.1,>=2.0->scvi-tools) (5.9.5)\n",
      "Requirement already satisfied: pydantic<2.2.0,>=1.7.4 in /usr/local/python/3.10.8/lib/python3.10/site-packages (from lightning<2.1,>=2.0->scvi-tools) (2.1.1)\n",
      "Requirement already satisfied: python-multipart<2.0,>=0.0.5 in /usr/local/python/3.10.8/lib/python3.10/site-packages (from lightning<2.1,>=2.0->scvi-tools) (0.0.6)\n",
      "Requirement already satisfied: requests<4.0 in /home/codespace/.local/lib/python3.10/site-packages (from lightning<2.1,>=2.0->scvi-tools) (2.31.0)\n",
      "Requirement already satisfied: starlette in /usr/local/python/3.10.8/lib/python3.10/site-packages (from lightning<2.1,>=2.0->scvi-tools) (0.27.0)\n",
      "Requirement already satisfied: starsessions<2.0,>=1.2.1 in /usr/local/python/3.10.8/lib/python3.10/site-packages (from lightning<2.1,>=2.0->scvi-tools) (1.3.0)\n",
      "Requirement already satisfied: traitlets<7.0,>=5.3.0 in /home/codespace/.local/lib/python3.10/site-packages (from lightning<2.1,>=2.0->scvi-tools) (5.9.0)\n",
      "Requirement already satisfied: urllib3<4.0 in /home/codespace/.local/lib/python3.10/site-packages (from lightning<2.1,>=2.0->scvi-tools) (2.0.4)\n",
      "Requirement already satisfied: uvicorn<2.0 in /usr/local/python/3.10.8/lib/python3.10/site-packages (from lightning<2.1,>=2.0->scvi-tools) (0.23.2)\n",
      "Requirement already satisfied: websocket-client<3.0 in /home/codespace/.local/lib/python3.10/site-packages (from lightning<2.1,>=2.0->scvi-tools) (1.6.1)\n",
      "Requirement already satisfied: websockets<13.0 in /usr/local/python/3.10.8/lib/python3.10/site-packages (from lightning<2.1,>=2.0->scvi-tools) (11.0.3)\n",
      "Requirement already satisfied: pytorch-lightning in /usr/local/python/3.10.8/lib/python3.10/site-packages (from lightning<2.1,>=2.0->scvi-tools) (2.0.8)\n",
      "Requirement already satisfied: contextlib2 in /usr/local/python/3.10.8/lib/python3.10/site-packages (from ml-collections>=0.1.1->scvi-tools) (21.6.0)\n",
      "Requirement already satisfied: multipledispatch in /usr/local/python/3.10.8/lib/python3.10/site-packages (from numpyro>=0.12.1->scvi-tools) (1.0.0)\n",
      "Requirement already satisfied: python-dateutil>=2.8.2 in /home/codespace/.local/lib/python3.10/site-packages (from pandas>=1.0->scvi-tools) (2.8.2)\n",
      "Requirement already satisfied: pytz>=2020.1 in /home/codespace/.local/lib/python3.10/site-packages (from pandas>=1.0->scvi-tools) (2023.3)\n",
      "Requirement already satisfied: tzdata>=2022.1 in /home/codespace/.local/lib/python3.10/site-packages (from pandas>=1.0->scvi-tools) (2023.3)\n",
      "Requirement already satisfied: pyro-api>=0.1.1 in /usr/local/python/3.10.8/lib/python3.10/site-packages (from pyro-ppl>=1.6.0->scvi-tools) (0.1.2)\n",
      "Requirement already satisfied: markdown-it-py>=2.2.0 in /usr/local/python/3.10.8/lib/python3.10/site-packages (from rich>=12.0.0->scvi-tools) (3.0.0)\n",
      "Requirement already satisfied: pygments<3.0.0,>=2.13.0 in /home/codespace/.local/lib/python3.10/site-packages (from rich>=12.0.0->scvi-tools) (2.16.1)\n",
      "Requirement already satisfied: joblib>=1.1.1 in /home/codespace/.local/lib/python3.10/site-packages (from scikit-learn>=0.21.2->scvi-tools) (1.3.2)\n",
      "Requirement already satisfied: threadpoolctl>=2.0.0 in /home/codespace/.local/lib/python3.10/site-packages (from scikit-learn>=0.21.2->scvi-tools) (3.2.0)\n",
      "Requirement already satisfied: numba>=0.49 in /usr/local/python/3.10.8/lib/python3.10/site-packages (from sparse>=0.14.0->scvi-tools) (0.57.1)\n",
      "Requirement already satisfied: filelock in /home/codespace/.local/lib/python3.10/site-packages (from torch>=1.8.0->scvi-tools) (3.12.2)\n",
      "Requirement already satisfied: sympy in /home/codespace/.local/lib/python3.10/site-packages (from torch>=1.8.0->scvi-tools) (1.12)\n",
      "Requirement already satisfied: networkx in /home/codespace/.local/lib/python3.10/site-packages (from torch>=1.8.0->scvi-tools) (3.1)\n",
      "Requirement already satisfied: nvidia-cuda-nvrtc-cu11==11.7.99 in /home/codespace/.local/lib/python3.10/site-packages (from torch>=1.8.0->scvi-tools) (11.7.99)\n",
      "Requirement already satisfied: nvidia-cuda-runtime-cu11==11.7.99 in /home/codespace/.local/lib/python3.10/site-packages (from torch>=1.8.0->scvi-tools) (11.7.99)\n",
      "Requirement already satisfied: nvidia-cuda-cupti-cu11==11.7.101 in /home/codespace/.local/lib/python3.10/site-packages (from torch>=1.8.0->scvi-tools) (11.7.101)\n",
      "Requirement already satisfied: nvidia-cudnn-cu11==8.5.0.96 in /home/codespace/.local/lib/python3.10/site-packages (from torch>=1.8.0->scvi-tools) (8.5.0.96)\n",
      "Requirement already satisfied: nvidia-cublas-cu11==11.10.3.66 in /home/codespace/.local/lib/python3.10/site-packages (from torch>=1.8.0->scvi-tools) (11.10.3.66)\n",
      "Requirement already satisfied: nvidia-cufft-cu11==10.9.0.58 in /home/codespace/.local/lib/python3.10/site-packages (from torch>=1.8.0->scvi-tools) (10.9.0.58)\n",
      "Requirement already satisfied: nvidia-curand-cu11==10.2.10.91 in /home/codespace/.local/lib/python3.10/site-packages (from torch>=1.8.0->scvi-tools) (10.2.10.91)\n",
      "Requirement already satisfied: nvidia-cusolver-cu11==11.4.0.1 in /home/codespace/.local/lib/python3.10/site-packages (from torch>=1.8.0->scvi-tools) (11.4.0.1)\n",
      "Requirement already satisfied: nvidia-cusparse-cu11==11.7.4.91 in /home/codespace/.local/lib/python3.10/site-packages (from torch>=1.8.0->scvi-tools) (11.7.4.91)\n",
      "Requirement already satisfied: nvidia-nccl-cu11==2.14.3 in /home/codespace/.local/lib/python3.10/site-packages (from torch>=1.8.0->scvi-tools) (2.14.3)\n",
      "Requirement already satisfied: nvidia-nvtx-cu11==11.7.91 in /home/codespace/.local/lib/python3.10/site-packages (from torch>=1.8.0->scvi-tools) (11.7.91)\n",
      "Requirement already satisfied: triton==2.0.0 in /home/codespace/.local/lib/python3.10/site-packages (from torch>=1.8.0->scvi-tools) (2.0.0)\n",
      "Requirement already satisfied: setuptools in /home/codespace/.local/lib/python3.10/site-packages (from nvidia-cublas-cu11==11.10.3.66->torch>=1.8.0->scvi-tools) (68.0.0)\n",
      "Requirement already satisfied: wheel in /home/codespace/.local/lib/python3.10/site-packages (from nvidia-cublas-cu11==11.10.3.66->torch>=1.8.0->scvi-tools) (0.41.1)\n",
      "Requirement already satisfied: cmake in /home/codespace/.local/lib/python3.10/site-packages (from triton==2.0.0->torch>=1.8.0->scvi-tools) (3.27.2)\n",
      "Requirement already satisfied: lit in /home/codespace/.local/lib/python3.10/site-packages (from triton==2.0.0->torch>=1.8.0->scvi-tools) (16.0.6)\n"
     ]
    },
    {
     "name": "stdout",
     "output_type": "stream",
     "text": [
      "Requirement already satisfied: msgpack in /usr/local/python/3.10.8/lib/python3.10/site-packages (from flax->scvi-tools) (1.0.5)\n",
      "Requirement already satisfied: orbax-checkpoint in /usr/local/python/3.10.8/lib/python3.10/site-packages (from flax->scvi-tools) (0.3.5)\n",
      "Requirement already satisfied: tensorstore in /usr/local/python/3.10.8/lib/python3.10/site-packages (from flax->scvi-tools) (0.1.41)\n",
      "Requirement already satisfied: soupsieve>1.2 in /home/codespace/.local/lib/python3.10/site-packages (from beautifulsoup4<6.0,>=4.8.0->lightning<2.1,>=2.0->scvi-tools) (2.4.1)\n",
      "Requirement already satisfied: ordered-set<4.2.0,>=4.0.2 in /usr/local/python/3.10.8/lib/python3.10/site-packages (from deepdiff<8.0,>=5.7.0->lightning<2.1,>=2.0->scvi-tools) (4.1.0)\n",
      "Requirement already satisfied: anyio<4.0.0,>=3.7.1 in /home/codespace/.local/lib/python3.10/site-packages (from fastapi<2.0,>=0.92.0->lightning<2.1,>=2.0->scvi-tools) (3.7.1)\n",
      "Requirement already satisfied: aiohttp!=4.0.0a0,!=4.0.0a1 in /usr/local/python/3.10.8/lib/python3.10/site-packages (from fsspec<2025.0,>=2022.5.0->lightning<2.1,>=2.0->scvi-tools) (3.8.5)\n",
      "Requirement already satisfied: blessed>=1.19.0 in /usr/local/python/3.10.8/lib/python3.10/site-packages (from inquirer<5.0,>=2.10.0->lightning<2.1,>=2.0->scvi-tools) (1.20.0)\n",
      "Requirement already satisfied: python-editor>=1.0.4 in /usr/local/python/3.10.8/lib/python3.10/site-packages (from inquirer<5.0,>=2.10.0->lightning<2.1,>=2.0->scvi-tools) (1.0.4)\n",
      "Requirement already satisfied: readchar>=3.0.6 in /usr/local/python/3.10.8/lib/python3.10/site-packages (from inquirer<5.0,>=2.10.0->lightning<2.1,>=2.0->scvi-tools) (4.0.5)\n",
      "Requirement already satisfied: MarkupSafe>=2.0 in /home/codespace/.local/lib/python3.10/site-packages (from Jinja2<5.0->lightning<2.1,>=2.0->scvi-tools) (2.1.3)\n",
      "Requirement already satisfied: pyjwt in /usr/local/python/3.10.8/lib/python3.10/site-packages (from lightning-cloud>=0.5.37->lightning<2.1,>=2.0->scvi-tools) (2.8.0)\n",
      "Requirement already satisfied: mdurl~=0.1 in /usr/local/python/3.10.8/lib/python3.10/site-packages (from markdown-it-py>=2.2.0->rich>=12.0.0->scvi-tools) (0.1.2)\n",
      "Requirement already satisfied: llvmlite<0.41,>=0.40.0dev0 in /usr/local/python/3.10.8/lib/python3.10/site-packages (from numba>=0.49->sparse>=0.14.0->scvi-tools) (0.40.1)\n",
      "Requirement already satisfied: annotated-types>=0.4.0 in /usr/local/python/3.10.8/lib/python3.10/site-packages (from pydantic<2.2.0,>=1.7.4->lightning<2.1,>=2.0->scvi-tools) (0.5.0)\n",
      "Requirement already satisfied: pydantic-core==2.4.0 in /usr/local/python/3.10.8/lib/python3.10/site-packages (from pydantic<2.2.0,>=1.7.4->lightning<2.1,>=2.0->scvi-tools) (2.4.0)\n",
      "Requirement already satisfied: charset-normalizer<4,>=2 in /home/codespace/.local/lib/python3.10/site-packages (from requests<4.0->lightning<2.1,>=2.0->scvi-tools) (3.2.0)\n",
      "Requirement already satisfied: idna<4,>=2.5 in /home/codespace/.local/lib/python3.10/site-packages (from requests<4.0->lightning<2.1,>=2.0->scvi-tools) (3.4)\n",
      "Requirement already satisfied: certifi>=2017.4.17 in /home/codespace/.local/lib/python3.10/site-packages (from requests<4.0->lightning<2.1,>=2.0->scvi-tools) (2023.7.22)\n",
      "Requirement already satisfied: itsdangerous<3.0.0,>=2.0.1 in /usr/local/python/3.10.8/lib/python3.10/site-packages (from starsessions<2.0,>=1.2.1->lightning<2.1,>=2.0->scvi-tools) (2.1.2)\n",
      "Requirement already satisfied: h11>=0.8 in /usr/local/python/3.10.8/lib/python3.10/site-packages (from uvicorn<2.0->lightning<2.1,>=2.0->scvi-tools) (0.14.0)\n",
      "Requirement already satisfied: etils[epath,epy] in /usr/local/python/3.10.8/lib/python3.10/site-packages (from orbax-checkpoint->flax->scvi-tools) (1.4.1)\n",
      "Requirement already satisfied: nest_asyncio in /home/codespace/.local/lib/python3.10/site-packages (from orbax-checkpoint->flax->scvi-tools) (1.5.7)\n",
      "Requirement already satisfied: protobuf in /usr/local/python/3.10.8/lib/python3.10/site-packages (from orbax-checkpoint->flax->scvi-tools) (3.20.3)\n",
      "Requirement already satisfied: mpmath>=0.19 in /home/codespace/.local/lib/python3.10/site-packages (from sympy->torch>=1.8.0->scvi-tools) (1.3.0)\n",
      "Requirement already satisfied: attrs>=17.3.0 in /home/codespace/.local/lib/python3.10/site-packages (from aiohttp!=4.0.0a0,!=4.0.0a1->fsspec<2025.0,>=2022.5.0->lightning<2.1,>=2.0->scvi-tools) (23.1.0)\n",
      "Requirement already satisfied: multidict<7.0,>=4.5 in /usr/local/python/3.10.8/lib/python3.10/site-packages (from aiohttp!=4.0.0a0,!=4.0.0a1->fsspec<2025.0,>=2022.5.0->lightning<2.1,>=2.0->scvi-tools) (6.0.4)\n",
      "Requirement already satisfied: async-timeout<5.0,>=4.0.0a3 in /usr/local/python/3.10.8/lib/python3.10/site-packages (from aiohttp!=4.0.0a0,!=4.0.0a1->fsspec<2025.0,>=2022.5.0->lightning<2.1,>=2.0->scvi-tools) (4.0.3)\n",
      "Requirement already satisfied: yarl<2.0,>=1.0 in /usr/local/python/3.10.8/lib/python3.10/site-packages (from aiohttp!=4.0.0a0,!=4.0.0a1->fsspec<2025.0,>=2022.5.0->lightning<2.1,>=2.0->scvi-tools) (1.9.2)\n",
      "Requirement already satisfied: frozenlist>=1.1.1 in /usr/local/python/3.10.8/lib/python3.10/site-packages (from aiohttp!=4.0.0a0,!=4.0.0a1->fsspec<2025.0,>=2022.5.0->lightning<2.1,>=2.0->scvi-tools) (1.4.0)\n",
      "Requirement already satisfied: aiosignal>=1.1.2 in /usr/local/python/3.10.8/lib/python3.10/site-packages (from aiohttp!=4.0.0a0,!=4.0.0a1->fsspec<2025.0,>=2022.5.0->lightning<2.1,>=2.0->scvi-tools) (1.3.1)\n",
      "Requirement already satisfied: sniffio>=1.1 in /home/codespace/.local/lib/python3.10/site-packages (from anyio<4.0.0,>=3.7.1->fastapi<2.0,>=0.92.0->lightning<2.1,>=2.0->scvi-tools) (1.3.0)\n",
      "Requirement already satisfied: exceptiongroup in /home/codespace/.local/lib/python3.10/site-packages (from anyio<4.0.0,>=3.7.1->fastapi<2.0,>=0.92.0->lightning<2.1,>=2.0->scvi-tools) (1.1.3)\n",
      "Requirement already satisfied: wcwidth>=0.1.4 in /home/codespace/.local/lib/python3.10/site-packages (from blessed>=1.19.0->inquirer<5.0,>=2.10.0->lightning<2.1,>=2.0->scvi-tools) (0.2.6)\n",
      "Requirement already satisfied: importlib_resources in /usr/local/python/3.10.8/lib/python3.10/site-packages (from etils[epath,epy]->orbax-checkpoint->flax->scvi-tools) (6.0.1)\n",
      "Requirement already satisfied: zipp in /usr/local/python/3.10.8/lib/python3.10/site-packages (from etils[epath,epy]->orbax-checkpoint->flax->scvi-tools) (3.16.2)\n",
      "Note: you may need to restart the kernel to use updated packages.\n"
     ]
    }
   ],
   "source": [
    "%pip install scvi-tools"
   ]
  },
  {
   "cell_type": "code",
   "execution_count": 4,
   "metadata": {
    "colab": {
     "base_uri": "https://localhost:8080/"
    },
    "id": "zM1CZHoOgf6J",
    "outputId": "0002db08-0eb3-4fd6-f48d-6c83faf213a2"
   },
   "outputs": [
    {
     "name": "stderr",
     "output_type": "stream",
     "text": [
      "/home/codespace/.python/current/lib/python3.10/site-packages/scvi/_settings.py:63: UserWarning: Since v1.0.0, scvi-tools no longer uses a random seed by default. Run `scvi.settings.seed = 0` to reproduce results from previous versions.\n",
      "  self.seed = seed\n",
      "/home/codespace/.python/current/lib/python3.10/site-packages/scvi/_settings.py:70: UserWarning: Setting `dl_pin_memory_gpu_training` is deprecated in v1.0 and will be removed in v1.1. Please pass in `pin_memory` to the data loaders instead.\n",
      "  self.dl_pin_memory_gpu_training = (\n",
      "/home/codespace/.python/current/lib/python3.10/site-packages/tqdm/auto.py:21: TqdmWarning: IProgress not found. Please update jupyter and ipywidgets. See https://ipywidgets.readthedocs.io/en/stable/user_install.html\n",
      "  from .autonotebook import tqdm as notebook_tqdm\n"
     ]
    }
   ],
   "source": [
    "import scvi"
   ]
  },
  {
   "cell_type": "code",
   "execution_count": 5,
   "metadata": {
    "colab": {
     "base_uri": "https://localhost:8080/"
    },
    "id": "eLKQlOQCggl1",
    "outputId": "abc0c912-0a64-4e81-db59-7e921e241025"
   },
   "outputs": [
    {
     "name": "stdout",
     "output_type": "stream",
     "text": [
      "Name: seurat\n",
      "Version: 0.0.2\n",
      "Summary: \n",
      "Home-page: \n",
      "Author: Mac Prible\n",
      "Author-email: prible@gmail.com\n",
      "License: \n",
      "Location: /usr/local/python/3.10.8/lib/python3.10/site-packages\n",
      "Requires: mediapipe, opencv-contrib-python, opencv-python, toml\n",
      "Required-by: \n",
      "Note: you may need to restart the kernel to use updated packages.\n"
     ]
    }
   ],
   "source": [
    "%pip show seurat"
   ]
  },
  {
   "cell_type": "code",
   "execution_count": 6,
   "metadata": {
    "id": "Di0yb9kzglQp"
   },
   "outputs": [],
   "source": [
    "# Filter out the genes and train a model\n",
    "# Narrow down the number of genes\n",
    "# Keep genes that are found in at least 10 cells\n",
    "\n",
    "sc.pp.filter_genes(adata, min_cells = 10)"
   ]
  },
  {
   "cell_type": "code",
   "execution_count": 7,
   "metadata": {
    "id": "396NEcaigs5h"
   },
   "outputs": [],
   "source": [
    "sc.pp.highly_variable_genes(adata, n_top_genes = 2000, subset = True, flavor = 'seurat_v3')"
   ]
  },
  {
   "cell_type": "code",
   "execution_count": 8,
   "metadata": {
    "colab": {
     "base_uri": "https://localhost:8080/"
    },
    "id": "i42rCFqJgxIN",
    "outputId": "dc83af70-1acf-4b47-a1d2-3e094dccbe1f"
   },
   "outputs": [
    {
     "name": "stderr",
     "output_type": "stream",
     "text": [
      "No GPU/TPU found, falling back to CPU. (Set TF_CPP_MIN_LOG_LEVEL=0 and rerun for more info.)\n",
      "GPU available: False, used: False\n",
      "TPU available: False, using: 0 TPU cores\n",
      "IPU available: False, using: 0 IPUs\n",
      "HPU available: False, using: 0 HPUs\n"
     ]
    },
    {
     "name": "stdout",
     "output_type": "stream",
     "text": [
      "Epoch 400/400: 100%|██████████| 400/400 [06:56<00:00,  1.00s/it, v_num=1, train_loss_step=338, train_loss_epoch=323]"
     ]
    },
    {
     "name": "stderr",
     "output_type": "stream",
     "text": [
      "`Trainer.fit` stopped: `max_epochs=400` reached.\n"
     ]
    },
    {
     "name": "stdout",
     "output_type": "stream",
     "text": [
      "Epoch 400/400: 100%|██████████| 400/400 [06:56<00:00,  1.04s/it, v_num=1, train_loss_step=338, train_loss_epoch=323]\n"
     ]
    }
   ],
   "source": [
    "scvi.model.SCVI.setup_anndata(adata)\n",
    "vae = scvi.model.SCVI(adata)\n",
    "vae.train()"
   ]
  },
  {
   "cell_type": "code",
   "execution_count": 9,
   "metadata": {
    "id": "LeYsg6KKpv-I"
   },
   "outputs": [
    {
     "name": "stdout",
     "output_type": "stream",
     "text": [
      "\u001b[34mINFO    \u001b[0m Creating doublets, preparing SOLO model.                                                                  \n"
     ]
    },
    {
     "name": "stderr",
     "output_type": "stream",
     "text": [
      "GPU available: False, used: False\n",
      "TPU available: False, using: 0 TPU cores\n",
      "IPU available: False, using: 0 IPUs\n",
      "HPU available: False, using: 0 HPUs\n"
     ]
    },
    {
     "name": "stdout",
     "output_type": "stream",
     "text": [
      "Epoch 76/400:  19%|█▉        | 75/400 [00:19<01:22,  3.93it/s, v_num=1, train_loss_step=0.38, train_loss_epoch=0.311] "
     ]
    },
    {
     "name": "stdout",
     "output_type": "stream",
     "text": [
      "Epoch 255/400:  64%|██████▍   | 255/400 [01:06<00:37,  3.85it/s, v_num=1, train_loss_step=0.309, train_loss_epoch=0.293]\n",
      "Monitored metric validation_loss did not improve in the last 30 records. Best score: 0.312. Signaling Trainer to stop.\n"
     ]
    }
   ],
   "source": [
    "solo = scvi.external.SOLO.from_scvi_model(vae)\n",
    "solo.train()"
   ]
  },
  {
   "cell_type": "code",
   "execution_count": 10,
   "metadata": {
    "id": "x2GwcQ6Nw012"
   },
   "outputs": [
    {
     "data": {
      "text/html": [
       "<div>\n",
       "<style scoped>\n",
       "    .dataframe tbody tr th:only-of-type {\n",
       "        vertical-align: middle;\n",
       "    }\n",
       "\n",
       "    .dataframe tbody tr th {\n",
       "        vertical-align: top;\n",
       "    }\n",
       "\n",
       "    .dataframe thead th {\n",
       "        text-align: right;\n",
       "    }\n",
       "</style>\n",
       "<table border=\"1\" class=\"dataframe\">\n",
       "  <thead>\n",
       "    <tr style=\"text-align: right;\">\n",
       "      <th></th>\n",
       "      <th>doublet</th>\n",
       "      <th>singlet</th>\n",
       "    </tr>\n",
       "  </thead>\n",
       "  <tbody>\n",
       "    <tr>\n",
       "      <th>TAGGTACCATGGCCAC-1_1</th>\n",
       "      <td>1.056440</td>\n",
       "      <td>-0.516755</td>\n",
       "    </tr>\n",
       "    <tr>\n",
       "      <th>ATTCACTGTAACAGGC-1_1</th>\n",
       "      <td>1.915407</td>\n",
       "      <td>-0.968293</td>\n",
       "    </tr>\n",
       "    <tr>\n",
       "      <th>TAACTTCCAACCACGC-1_1</th>\n",
       "      <td>1.263418</td>\n",
       "      <td>-0.202211</td>\n",
       "    </tr>\n",
       "    <tr>\n",
       "      <th>TTGGGTACACGACAAG-1_1</th>\n",
       "      <td>0.754443</td>\n",
       "      <td>-0.898048</td>\n",
       "    </tr>\n",
       "    <tr>\n",
       "      <th>AGGCCACAGAGTCACG-1_1</th>\n",
       "      <td>1.571520</td>\n",
       "      <td>-0.708351</td>\n",
       "    </tr>\n",
       "    <tr>\n",
       "      <th>...</th>\n",
       "      <td>...</td>\n",
       "      <td>...</td>\n",
       "    </tr>\n",
       "    <tr>\n",
       "      <th>CGCCATTGTTTGCCGG-1_1</th>\n",
       "      <td>-1.122332</td>\n",
       "      <td>1.849015</td>\n",
       "    </tr>\n",
       "    <tr>\n",
       "      <th>CACTGGGGTCTACGTA-1_1</th>\n",
       "      <td>-1.500405</td>\n",
       "      <td>2.479322</td>\n",
       "    </tr>\n",
       "    <tr>\n",
       "      <th>CATACTTGTAGAGGAA-1_1</th>\n",
       "      <td>-2.227813</td>\n",
       "      <td>2.807263</td>\n",
       "    </tr>\n",
       "    <tr>\n",
       "      <th>TTTGGTTTCCACGGAC-1_1</th>\n",
       "      <td>-3.053674</td>\n",
       "      <td>3.854050</td>\n",
       "    </tr>\n",
       "    <tr>\n",
       "      <th>ATGCATGAGTCATGAA-1_1</th>\n",
       "      <td>-2.033814</td>\n",
       "      <td>2.903905</td>\n",
       "    </tr>\n",
       "  </tbody>\n",
       "</table>\n",
       "<p>6099 rows × 2 columns</p>\n",
       "</div>"
      ],
      "text/plain": [
       "                       doublet   singlet\n",
       "TAGGTACCATGGCCAC-1_1  1.056440 -0.516755\n",
       "ATTCACTGTAACAGGC-1_1  1.915407 -0.968293\n",
       "TAACTTCCAACCACGC-1_1  1.263418 -0.202211\n",
       "TTGGGTACACGACAAG-1_1  0.754443 -0.898048\n",
       "AGGCCACAGAGTCACG-1_1  1.571520 -0.708351\n",
       "...                        ...       ...\n",
       "CGCCATTGTTTGCCGG-1_1 -1.122332  1.849015\n",
       "CACTGGGGTCTACGTA-1_1 -1.500405  2.479322\n",
       "CATACTTGTAGAGGAA-1_1 -2.227813  2.807263\n",
       "TTTGGTTTCCACGGAC-1_1 -3.053674  3.854050\n",
       "ATGCATGAGTCATGAA-1_1 -2.033814  2.903905\n",
       "\n",
       "[6099 rows x 2 columns]"
      ]
     },
     "execution_count": 10,
     "metadata": {},
     "output_type": "execute_result"
    }
   ],
   "source": [
    "solo.predict()"
   ]
  },
  {
   "cell_type": "code",
   "execution_count": 11,
   "metadata": {
    "id": "Qzeteb9Kqbrm"
   },
   "outputs": [
    {
     "data": {
      "text/html": [
       "<div>\n",
       "<style scoped>\n",
       "    .dataframe tbody tr th:only-of-type {\n",
       "        vertical-align: middle;\n",
       "    }\n",
       "\n",
       "    .dataframe tbody tr th {\n",
       "        vertical-align: top;\n",
       "    }\n",
       "\n",
       "    .dataframe thead th {\n",
       "        text-align: right;\n",
       "    }\n",
       "</style>\n",
       "<table border=\"1\" class=\"dataframe\">\n",
       "  <thead>\n",
       "    <tr style=\"text-align: right;\">\n",
       "      <th></th>\n",
       "      <th>doublet</th>\n",
       "      <th>singlet</th>\n",
       "      <th>prediction</th>\n",
       "    </tr>\n",
       "  </thead>\n",
       "  <tbody>\n",
       "    <tr>\n",
       "      <th>TAGGTACCATGGCCAC-1</th>\n",
       "      <td>1.056440</td>\n",
       "      <td>-0.516755</td>\n",
       "      <td>doublet</td>\n",
       "    </tr>\n",
       "    <tr>\n",
       "      <th>ATTCACTGTAACAGGC-1</th>\n",
       "      <td>1.915407</td>\n",
       "      <td>-0.968293</td>\n",
       "      <td>doublet</td>\n",
       "    </tr>\n",
       "    <tr>\n",
       "      <th>TAACTTCCAACCACGC-1</th>\n",
       "      <td>1.263418</td>\n",
       "      <td>-0.202211</td>\n",
       "      <td>doublet</td>\n",
       "    </tr>\n",
       "    <tr>\n",
       "      <th>TTGGGTACACGACAAG-1</th>\n",
       "      <td>0.754443</td>\n",
       "      <td>-0.898048</td>\n",
       "      <td>doublet</td>\n",
       "    </tr>\n",
       "    <tr>\n",
       "      <th>AGGCCACAGAGTCACG-1</th>\n",
       "      <td>1.571520</td>\n",
       "      <td>-0.708351</td>\n",
       "      <td>doublet</td>\n",
       "    </tr>\n",
       "    <tr>\n",
       "      <th>...</th>\n",
       "      <td>...</td>\n",
       "      <td>...</td>\n",
       "      <td>...</td>\n",
       "    </tr>\n",
       "    <tr>\n",
       "      <th>CGCCATTGTTTGCCGG-1</th>\n",
       "      <td>-1.122332</td>\n",
       "      <td>1.849015</td>\n",
       "      <td>singlet</td>\n",
       "    </tr>\n",
       "    <tr>\n",
       "      <th>CACTGGGGTCTACGTA-1</th>\n",
       "      <td>-1.500405</td>\n",
       "      <td>2.479322</td>\n",
       "      <td>singlet</td>\n",
       "    </tr>\n",
       "    <tr>\n",
       "      <th>CATACTTGTAGAGGAA-1</th>\n",
       "      <td>-2.227813</td>\n",
       "      <td>2.807263</td>\n",
       "      <td>singlet</td>\n",
       "    </tr>\n",
       "    <tr>\n",
       "      <th>TTTGGTTTCCACGGAC-1</th>\n",
       "      <td>-3.053674</td>\n",
       "      <td>3.854050</td>\n",
       "      <td>singlet</td>\n",
       "    </tr>\n",
       "    <tr>\n",
       "      <th>ATGCATGAGTCATGAA-1</th>\n",
       "      <td>-2.033814</td>\n",
       "      <td>2.903905</td>\n",
       "      <td>singlet</td>\n",
       "    </tr>\n",
       "  </tbody>\n",
       "</table>\n",
       "<p>6099 rows × 3 columns</p>\n",
       "</div>"
      ],
      "text/plain": [
       "                     doublet   singlet prediction\n",
       "TAGGTACCATGGCCAC-1  1.056440 -0.516755    doublet\n",
       "ATTCACTGTAACAGGC-1  1.915407 -0.968293    doublet\n",
       "TAACTTCCAACCACGC-1  1.263418 -0.202211    doublet\n",
       "TTGGGTACACGACAAG-1  0.754443 -0.898048    doublet\n",
       "AGGCCACAGAGTCACG-1  1.571520 -0.708351    doublet\n",
       "...                      ...       ...        ...\n",
       "CGCCATTGTTTGCCGG-1 -1.122332  1.849015    singlet\n",
       "CACTGGGGTCTACGTA-1 -1.500405  2.479322    singlet\n",
       "CATACTTGTAGAGGAA-1 -2.227813  2.807263    singlet\n",
       "TTTGGTTTCCACGGAC-1 -3.053674  3.854050    singlet\n",
       "ATGCATGAGTCATGAA-1 -2.033814  2.903905    singlet\n",
       "\n",
       "[6099 rows x 3 columns]"
      ]
     },
     "execution_count": 11,
     "metadata": {},
     "output_type": "execute_result"
    }
   ],
   "source": [
    "df = solo.predict()\n",
    "df['prediction'] = solo.predict(soft = False)\n",
    "df.index = df.index.map(lambda x: x[:-2]) # Adding : next to the number is different from w/o a :\n",
    "df"
   ]
  },
  {
   "cell_type": "code",
   "execution_count": 12,
   "metadata": {
    "id": "taVt2LCMxh-C"
   },
   "outputs": [
    {
     "data": {
      "text/html": [
       "<div>\n",
       "<style scoped>\n",
       "    .dataframe tbody tr th:only-of-type {\n",
       "        vertical-align: middle;\n",
       "    }\n",
       "\n",
       "    .dataframe tbody tr th {\n",
       "        vertical-align: top;\n",
       "    }\n",
       "\n",
       "    .dataframe thead th {\n",
       "        text-align: right;\n",
       "    }\n",
       "</style>\n",
       "<table border=\"1\" class=\"dataframe\">\n",
       "  <thead>\n",
       "    <tr style=\"text-align: right;\">\n",
       "      <th></th>\n",
       "      <th>doublet</th>\n",
       "      <th>singlet</th>\n",
       "    </tr>\n",
       "    <tr>\n",
       "      <th>prediction</th>\n",
       "      <th></th>\n",
       "      <th></th>\n",
       "    </tr>\n",
       "  </thead>\n",
       "  <tbody>\n",
       "    <tr>\n",
       "      <th>doublet</th>\n",
       "      <td>1199</td>\n",
       "      <td>1199</td>\n",
       "    </tr>\n",
       "    <tr>\n",
       "      <th>singlet</th>\n",
       "      <td>4900</td>\n",
       "      <td>4900</td>\n",
       "    </tr>\n",
       "  </tbody>\n",
       "</table>\n",
       "</div>"
      ],
      "text/plain": [
       "            doublet  singlet\n",
       "prediction                  \n",
       "doublet        1199     1199\n",
       "singlet        4900     4900"
      ]
     },
     "execution_count": 12,
     "metadata": {},
     "output_type": "execute_result"
    }
   ],
   "source": [
    "# Count doublet and singlets\n",
    "df.groupby('prediction').count()"
   ]
  },
  {
   "cell_type": "markdown",
   "metadata": {
    "id": "1HHx65kjyYNz"
   },
   "source": [
    "20% of the data is doublet which is high\n",
    "\n",
    "*how much is a typical good range?\n",
    "\n",
    "we might want to discard this portion of the data but we are going to add the difference between the two columns"
   ]
  },
  {
   "cell_type": "code",
   "execution_count": 13,
   "metadata": {
    "id": "B-Z3Fp-JyncC"
   },
   "outputs": [
    {
     "data": {
      "text/html": [
       "<div>\n",
       "<style scoped>\n",
       "    .dataframe tbody tr th:only-of-type {\n",
       "        vertical-align: middle;\n",
       "    }\n",
       "\n",
       "    .dataframe tbody tr th {\n",
       "        vertical-align: top;\n",
       "    }\n",
       "\n",
       "    .dataframe thead th {\n",
       "        text-align: right;\n",
       "    }\n",
       "</style>\n",
       "<table border=\"1\" class=\"dataframe\">\n",
       "  <thead>\n",
       "    <tr style=\"text-align: right;\">\n",
       "      <th></th>\n",
       "      <th>doublet</th>\n",
       "      <th>singlet</th>\n",
       "      <th>prediction</th>\n",
       "      <th>dif</th>\n",
       "    </tr>\n",
       "  </thead>\n",
       "  <tbody>\n",
       "    <tr>\n",
       "      <th>TAGGTACCATGGCCAC-1</th>\n",
       "      <td>1.056440</td>\n",
       "      <td>-0.516755</td>\n",
       "      <td>doublet</td>\n",
       "      <td>1.573196</td>\n",
       "    </tr>\n",
       "    <tr>\n",
       "      <th>ATTCACTGTAACAGGC-1</th>\n",
       "      <td>1.915407</td>\n",
       "      <td>-0.968293</td>\n",
       "      <td>doublet</td>\n",
       "      <td>2.883699</td>\n",
       "    </tr>\n",
       "    <tr>\n",
       "      <th>TAACTTCCAACCACGC-1</th>\n",
       "      <td>1.263418</td>\n",
       "      <td>-0.202211</td>\n",
       "      <td>doublet</td>\n",
       "      <td>1.465628</td>\n",
       "    </tr>\n",
       "    <tr>\n",
       "      <th>TTGGGTACACGACAAG-1</th>\n",
       "      <td>0.754443</td>\n",
       "      <td>-0.898048</td>\n",
       "      <td>doublet</td>\n",
       "      <td>1.652491</td>\n",
       "    </tr>\n",
       "    <tr>\n",
       "      <th>AGGCCACAGAGTCACG-1</th>\n",
       "      <td>1.571520</td>\n",
       "      <td>-0.708351</td>\n",
       "      <td>doublet</td>\n",
       "      <td>2.279871</td>\n",
       "    </tr>\n",
       "    <tr>\n",
       "      <th>...</th>\n",
       "      <td>...</td>\n",
       "      <td>...</td>\n",
       "      <td>...</td>\n",
       "      <td>...</td>\n",
       "    </tr>\n",
       "    <tr>\n",
       "      <th>CGCCATTGTTTGCCGG-1</th>\n",
       "      <td>-1.122332</td>\n",
       "      <td>1.849015</td>\n",
       "      <td>singlet</td>\n",
       "      <td>-2.971348</td>\n",
       "    </tr>\n",
       "    <tr>\n",
       "      <th>CACTGGGGTCTACGTA-1</th>\n",
       "      <td>-1.500405</td>\n",
       "      <td>2.479322</td>\n",
       "      <td>singlet</td>\n",
       "      <td>-3.979727</td>\n",
       "    </tr>\n",
       "    <tr>\n",
       "      <th>CATACTTGTAGAGGAA-1</th>\n",
       "      <td>-2.227813</td>\n",
       "      <td>2.807263</td>\n",
       "      <td>singlet</td>\n",
       "      <td>-5.035076</td>\n",
       "    </tr>\n",
       "    <tr>\n",
       "      <th>TTTGGTTTCCACGGAC-1</th>\n",
       "      <td>-3.053674</td>\n",
       "      <td>3.854050</td>\n",
       "      <td>singlet</td>\n",
       "      <td>-6.907723</td>\n",
       "    </tr>\n",
       "    <tr>\n",
       "      <th>ATGCATGAGTCATGAA-1</th>\n",
       "      <td>-2.033814</td>\n",
       "      <td>2.903905</td>\n",
       "      <td>singlet</td>\n",
       "      <td>-4.937719</td>\n",
       "    </tr>\n",
       "  </tbody>\n",
       "</table>\n",
       "<p>6099 rows × 4 columns</p>\n",
       "</div>"
      ],
      "text/plain": [
       "                     doublet   singlet prediction       dif\n",
       "TAGGTACCATGGCCAC-1  1.056440 -0.516755    doublet  1.573196\n",
       "ATTCACTGTAACAGGC-1  1.915407 -0.968293    doublet  2.883699\n",
       "TAACTTCCAACCACGC-1  1.263418 -0.202211    doublet  1.465628\n",
       "TTGGGTACACGACAAG-1  0.754443 -0.898048    doublet  1.652491\n",
       "AGGCCACAGAGTCACG-1  1.571520 -0.708351    doublet  2.279871\n",
       "...                      ...       ...        ...       ...\n",
       "CGCCATTGTTTGCCGG-1 -1.122332  1.849015    singlet -2.971348\n",
       "CACTGGGGTCTACGTA-1 -1.500405  2.479322    singlet -3.979727\n",
       "CATACTTGTAGAGGAA-1 -2.227813  2.807263    singlet -5.035076\n",
       "TTTGGTTTCCACGGAC-1 -3.053674  3.854050    singlet -6.907723\n",
       "ATGCATGAGTCATGAA-1 -2.033814  2.903905    singlet -4.937719\n",
       "\n",
       "[6099 rows x 4 columns]"
      ]
     },
     "execution_count": 13,
     "metadata": {},
     "output_type": "execute_result"
    }
   ],
   "source": [
    "df['dif'] = df.doublet - df.singlet\n",
    "df"
   ]
  },
  {
   "cell_type": "code",
   "execution_count": 14,
   "metadata": {
    "id": "sf6DT_Veznqi"
   },
   "outputs": [],
   "source": [
    "import seaborn as sns"
   ]
  },
  {
   "cell_type": "code",
   "execution_count": 15,
   "metadata": {},
   "outputs": [
    {
     "name": "stdout",
     "output_type": "stream",
     "text": [
      "Name: seaborn\n",
      "Version: 0.12.2\n",
      "Summary: Statistical data visualization\n",
      "Home-page: \n",
      "Author: \n",
      "Author-email: Michael Waskom <mwaskom@gmail.com>\n",
      "License: \n",
      "Location: /home/codespace/.local/lib/python3.10/site-packages\n",
      "Requires: matplotlib, numpy, pandas\n",
      "Required-by: scanpy\n"
     ]
    }
   ],
   "source": [
    "!pip show seaborn"
   ]
  },
  {
   "cell_type": "code",
   "execution_count": 16,
   "metadata": {
    "id": "WOP1c7YB0rkP"
   },
   "outputs": [
    {
     "name": "stderr",
     "output_type": "stream",
     "text": [
      "/home/codespace/.local/lib/python3.10/site-packages/seaborn/axisgrid.py:118: UserWarning: The figure layout has changed to tight\n",
      "  self._figure.tight_layout(*args, **kwargs)\n"
     ]
    },
    {
     "data": {
      "text/plain": [
       "<seaborn.axisgrid.FacetGrid at 0x7f2fef484f10>"
      ]
     },
     "execution_count": 16,
     "metadata": {},
     "output_type": "execute_result"
    },
    {
     "data": {
      "image/png": "[encoded data removed]",
      "text/plain": [
       "<Figure size 500x500 with 1 Axes>"
      ]
     },
     "metadata": {},
     "output_type": "display_data"
    }
   ],
   "source": [
    "# Plot the distribution of the dataframe - only dif column from the predicted cell doublets\n",
    "sns.displot(df[df.prediction == 'doublet'], x = 'dif')\n"
   ]
  },
  {
   "cell_type": "markdown",
   "metadata": {},
   "source": [
    "A lot of cells predicted doublets that are only marginally higher than the prediction in singlets\n",
    "We will filter out predictions below 1 (arbitrary selection)"
   ]
  },
  {
   "cell_type": "code",
   "execution_count": 17,
   "metadata": {
    "id": "3kTsZBwIUe3o"
   },
   "outputs": [
    {
     "data": {
      "text/html": [
       "<div>\n",
       "<style scoped>\n",
       "    .dataframe tbody tr th:only-of-type {\n",
       "        vertical-align: middle;\n",
       "    }\n",
       "\n",
       "    .dataframe tbody tr th {\n",
       "        vertical-align: top;\n",
       "    }\n",
       "\n",
       "    .dataframe thead th {\n",
       "        text-align: right;\n",
       "    }\n",
       "</style>\n",
       "<table border=\"1\" class=\"dataframe\">\n",
       "  <thead>\n",
       "    <tr style=\"text-align: right;\">\n",
       "      <th></th>\n",
       "      <th>doublet</th>\n",
       "      <th>singlet</th>\n",
       "      <th>prediction</th>\n",
       "      <th>dif</th>\n",
       "    </tr>\n",
       "  </thead>\n",
       "  <tbody>\n",
       "    <tr>\n",
       "      <th>TAGGTACCATGGCCAC-1</th>\n",
       "      <td>1.056440</td>\n",
       "      <td>-0.516755</td>\n",
       "      <td>doublet</td>\n",
       "      <td>1.573196</td>\n",
       "    </tr>\n",
       "    <tr>\n",
       "      <th>ATTCACTGTAACAGGC-1</th>\n",
       "      <td>1.915407</td>\n",
       "      <td>-0.968293</td>\n",
       "      <td>doublet</td>\n",
       "      <td>2.883699</td>\n",
       "    </tr>\n",
       "    <tr>\n",
       "      <th>TAACTTCCAACCACGC-1</th>\n",
       "      <td>1.263418</td>\n",
       "      <td>-0.202211</td>\n",
       "      <td>doublet</td>\n",
       "      <td>1.465628</td>\n",
       "    </tr>\n",
       "    <tr>\n",
       "      <th>TTGGGTACACGACAAG-1</th>\n",
       "      <td>0.754443</td>\n",
       "      <td>-0.898048</td>\n",
       "      <td>doublet</td>\n",
       "      <td>1.652491</td>\n",
       "    </tr>\n",
       "    <tr>\n",
       "      <th>AGGCCACAGAGTCACG-1</th>\n",
       "      <td>1.571520</td>\n",
       "      <td>-0.708351</td>\n",
       "      <td>doublet</td>\n",
       "      <td>2.279871</td>\n",
       "    </tr>\n",
       "    <tr>\n",
       "      <th>...</th>\n",
       "      <td>...</td>\n",
       "      <td>...</td>\n",
       "      <td>...</td>\n",
       "      <td>...</td>\n",
       "    </tr>\n",
       "    <tr>\n",
       "      <th>CAATACGCAATGTGGG-1</th>\n",
       "      <td>0.671308</td>\n",
       "      <td>-0.647675</td>\n",
       "      <td>doublet</td>\n",
       "      <td>1.318983</td>\n",
       "    </tr>\n",
       "    <tr>\n",
       "      <th>AACCCAATCTCGACCT-1</th>\n",
       "      <td>1.210163</td>\n",
       "      <td>-0.853625</td>\n",
       "      <td>doublet</td>\n",
       "      <td>2.063787</td>\n",
       "    </tr>\n",
       "    <tr>\n",
       "      <th>ATCAGGTGTCGTCTCT-1</th>\n",
       "      <td>1.102188</td>\n",
       "      <td>-1.180955</td>\n",
       "      <td>doublet</td>\n",
       "      <td>2.283143</td>\n",
       "    </tr>\n",
       "    <tr>\n",
       "      <th>GGAGGTAGTTAAGCAA-1</th>\n",
       "      <td>1.300003</td>\n",
       "      <td>-0.715047</td>\n",
       "      <td>doublet</td>\n",
       "      <td>2.015050</td>\n",
       "    </tr>\n",
       "    <tr>\n",
       "      <th>TCATGCCCAAGAGGTC-1</th>\n",
       "      <td>0.857148</td>\n",
       "      <td>-0.873793</td>\n",
       "      <td>doublet</td>\n",
       "      <td>1.730941</td>\n",
       "    </tr>\n",
       "  </tbody>\n",
       "</table>\n",
       "<p>467 rows × 4 columns</p>\n",
       "</div>"
      ],
      "text/plain": [
       "                     doublet   singlet prediction       dif\n",
       "TAGGTACCATGGCCAC-1  1.056440 -0.516755    doublet  1.573196\n",
       "ATTCACTGTAACAGGC-1  1.915407 -0.968293    doublet  2.883699\n",
       "TAACTTCCAACCACGC-1  1.263418 -0.202211    doublet  1.465628\n",
       "TTGGGTACACGACAAG-1  0.754443 -0.898048    doublet  1.652491\n",
       "AGGCCACAGAGTCACG-1  1.571520 -0.708351    doublet  2.279871\n",
       "...                      ...       ...        ...       ...\n",
       "CAATACGCAATGTGGG-1  0.671308 -0.647675    doublet  1.318983\n",
       "AACCCAATCTCGACCT-1  1.210163 -0.853625    doublet  2.063787\n",
       "ATCAGGTGTCGTCTCT-1  1.102188 -1.180955    doublet  2.283143\n",
       "GGAGGTAGTTAAGCAA-1  1.300003 -0.715047    doublet  2.015050\n",
       "TCATGCCCAAGAGGTC-1  0.857148 -0.873793    doublet  1.730941\n",
       "\n",
       "[467 rows x 4 columns]"
      ]
     },
     "execution_count": 17,
     "metadata": {},
     "output_type": "execute_result"
    }
   ],
   "source": [
    "# New dataframe Only the cells predicted doublet\n",
    "doublets = df[(df.prediction == 'doublet') & (df.dif > 1)]\n",
    "doublets"
   ]
  },
  {
   "cell_type": "markdown",
   "metadata": {},
   "source": [
    "546 cells that were predicted doublets with high certainity\n",
    "we will use the barcodes to filter adata (object) on that"
   ]
  },
  {
   "cell_type": "code",
   "execution_count": 19,
   "metadata": {},
   "outputs": [],
   "source": [
    "# Reload the adata using Scanpy read function\n",
    "adata = sc.read_csv(\"/workspaces/scRNA-Sequencing-of-Human-Lung-Dataset/GSM5226574_C51ctr_raw_counts.csv\").T"
   ]
  },
  {
   "cell_type": "code",
   "execution_count": 20,
   "metadata": {},
   "outputs": [
    {
     "data": {
      "text/html": [
       "<div>\n",
       "<style scoped>\n",
       "    .dataframe tbody tr th:only-of-type {\n",
       "        vertical-align: middle;\n",
       "    }\n",
       "\n",
       "    .dataframe tbody tr th {\n",
       "        vertical-align: top;\n",
       "    }\n",
       "\n",
       "    .dataframe thead th {\n",
       "        text-align: right;\n",
       "    }\n",
       "</style>\n",
       "<table border=\"1\" class=\"dataframe\">\n",
       "  <thead>\n",
       "    <tr style=\"text-align: right;\">\n",
       "      <th></th>\n",
       "    </tr>\n",
       "  </thead>\n",
       "  <tbody>\n",
       "    <tr>\n",
       "      <th>TAGGTACCATGGCCAC-1_1</th>\n",
       "    </tr>\n",
       "    <tr>\n",
       "      <th>ATTCACTGTAACAGGC-1_1</th>\n",
       "    </tr>\n",
       "    <tr>\n",
       "      <th>TAACTTCCAACCACGC-1_1</th>\n",
       "    </tr>\n",
       "    <tr>\n",
       "      <th>TTGGGTACACGACAAG-1_1</th>\n",
       "    </tr>\n",
       "    <tr>\n",
       "      <th>AGGCCACAGAGTCACG-1_1</th>\n",
       "    </tr>\n",
       "    <tr>\n",
       "      <th>...</th>\n",
       "    </tr>\n",
       "    <tr>\n",
       "      <th>CGCCATTGTTTGCCGG-1_1</th>\n",
       "    </tr>\n",
       "    <tr>\n",
       "      <th>CACTGGGGTCTACGTA-1_1</th>\n",
       "    </tr>\n",
       "    <tr>\n",
       "      <th>CATACTTGTAGAGGAA-1_1</th>\n",
       "    </tr>\n",
       "    <tr>\n",
       "      <th>TTTGGTTTCCACGGAC-1_1</th>\n",
       "    </tr>\n",
       "    <tr>\n",
       "      <th>ATGCATGAGTCATGAA-1_1</th>\n",
       "    </tr>\n",
       "  </tbody>\n",
       "</table>\n",
       "<p>6099 rows × 0 columns</p>\n",
       "</div>"
      ],
      "text/plain": [
       "Empty DataFrame\n",
       "Columns: []\n",
       "Index: [TAGGTACCATGGCCAC-1_1, ATTCACTGTAACAGGC-1_1, TAACTTCCAACCACGC-1_1, TTGGGTACACGACAAG-1_1, AGGCCACAGAGTCACG-1_1, CACTGAAGTCGAAGCA-1_1, ACTGATGTCTGCACCT-1_1, TTACCGCCACTCAGAT-1_1, TTGGTTTTCCTAGCTC-1_1, TGGGAAGTCAGTGATC-1_1, CCACGAGTCTCTTAAC-1_1, ACTTCCGCACAACGCC-1_1, GGGAAGTAGCGACCCT-1_1, TGGTAGTTCCCGTGTT-1_1, CGCATAACATGCCGGT-1_1, TCTATCACAAGGCTTT-1_1, ATCCACCAGAGGTATT-1_1, TAACGACAGATGACCG-1_1, TCTTAGTGTATGAGGC-1_1, CACTTCGCAGTACTAC-1_1, GTCAAACAGAACGTGC-1_1, GCAACCGAGGGCAGGA-1_1, CATACTTTCATCACTT-1_1, AAGAACATCGGATTAC-1_1, GGGTATTGTACGATGG-1_1, CTGTAGATCAACGTGT-1_1, GTCATTTGTATCTCGA-1_1, CCTTGTGCAGAGGGTT-1_1, AAGTTCGCAACACGTT-1_1, TCATTCACAAATCAAG-1_1, TCCATGCCAACGACTT-1_1, TCCTTCTCAGTTTCAG-1_1, TGTGAGTCAAATGATG-1_1, AAACGAAGTACAGAGC-1_1, CAACCAAAGTATTCCG-1_1, CTTCTCTCAGAGACTG-1_1, TACAACGGTGGCTGAA-1_1, AACGGGACATGCCGGT-1_1, AACCAACGTTGGGAAC-1_1, TATATCCAGCGTCAGA-1_1, AGACAAACATCCCGTT-1_1, ATGACCAGTCTTCATT-1_1, CTTACCGTCAGACATC-1_1, CGGGACTGTTAGTTCG-1_1, ATTCATCCACTGAGTT-1_1, TCATGAGAGAGGCGGA-1_1, TCCCACATCTAGTACG-1_1, CTTCCTTCATATCTCT-1_1, CCGGACACACTCGATA-1_1, ACACGCGCACCTGTCT-1_1, GAATCGTCAGAAGTGC-1_1, GGTGGCTCAAGCTCTA-1_1, CCTGCATCACATATGC-1_1, GTGGGAAGTTAAAGTG-1_1, CGTTCTGGTACTAGCT-1_1, ACCCTCACAATAGTCC-1_1, GCCCGAACAAACTAAG-1_1, GTGGAAGCACATGACT-1_1, GTTGTGACATCGATAC-1_1, GACAGCCCAGGTCCGT-1_1, TAAGCACGTTGGCTAT-1_1, GGGACAAGTCACCACG-1_1, CTGGCAGGTTCGGTAT-1_1, GACTCAACACTGTGAT-1_1, GCCAGTGGTGTGGTCC-1_1, TCTAACTGTAGGCAGT-1_1, GAAGAATGTAGCTTGT-1_1, TCACTCGCAATCTCTT-1_1, CAAGACTTCCCACAGG-1_1, CAGATACGTGACTCTA-1_1, TGGGATTAGAGGGTCT-1_1, ACCTGAACACTCCTTG-1_1, GACACGCCACTCGATA-1_1, CTCATCGTCACCGCTT-1_1, AGGTAGGGTCCCTGTT-1_1, TACCCGTCAACACTAC-1_1, TGCTGAAAGACGGATC-1_1, ACACCAACACAACGCC-1_1, AAGATAGCAAATGGAT-1_1, CTTCAATGTGACAGGT-1_1, GAAGCGAAGAGTTGAT-1_1, GCCGTGACACAAGCCC-1_1, CCTCAACCATACAGGG-1_1, ACAAAGATCCACAGGC-1_1, CAGATACAGTCCCAGC-1_1, GGCAGTCTCCGGTTCT-1_1, TAAGTCGAGCTGAGCA-1_1, GAGACCCGTCTGTGCG-1_1, TAACACGCATGTGTCA-1_1, TCAATTCGTTCTCGCT-1_1, GCTTTCGCACAGTGTT-1_1, AACCAACAGATAACAC-1_1, ATCGGCGCACATCATG-1_1, TCATCCGCACGAGGAT-1_1, CTGATCCTCTTTACAC-1_1, TCACACCCAACTTCTT-1_1, TGAGGGACACCGTACG-1_1, GTGCACGTCATCTGTT-1_1, GGTAATCAGTTGCATC-1_1, ATACTTCCAAGGTCTT-1_1, ...]\n",
       "\n",
       "[6099 rows x 0 columns]"
      ]
     },
     "execution_count": 20,
     "metadata": {},
     "output_type": "execute_result"
    }
   ],
   "source": [
    "adata.obs"
   ]
  },
  {
   "cell_type": "code",
   "execution_count": 21,
   "metadata": {},
   "outputs": [],
   "source": [
    "adata.obs['doublet'] = adata.obs.index.isin(doublets.index)\n",
    "# is the barcode is this, found in the previous dataframe (in 16), does match any barcode in index call\n",
    "# if it is a doublet it will be True"
   ]
  },
  {
   "cell_type": "code",
   "execution_count": 22,
   "metadata": {},
   "outputs": [],
   "source": [
    "# Filter out cells labelled True (doublets)\n",
    "adata = adata[~adata.obs.doublet] # the ~ means keep the False"
   ]
  },
  {
   "cell_type": "code",
   "execution_count": 23,
   "metadata": {},
   "outputs": [
    {
     "data": {
      "text/plain": [
       "View of AnnData object with n_obs × n_vars = 6099 × 34546\n",
       "    obs: 'doublet'"
      ]
     },
     "execution_count": 23,
     "metadata": {},
     "output_type": "execute_result"
    }
   ],
   "source": [
    "adata"
   ]
  },
  {
   "cell_type": "markdown",
   "metadata": {},
   "source": [
    "#Preprocessing"
   ]
  },
  {
   "cell_type": "markdown",
   "metadata": {},
   "source": [
    "1. Label the genes of mitochonderial origin\n",
    "\n",
    "Mitochonderial genes are annotated with MT- (human), mouse = Mt- or mt-\n",
    "Some cases might not use MT"
   ]
  },
  {
   "cell_type": "code",
   "execution_count": 24,
   "metadata": {},
   "outputs": [
    {
     "data": {
      "text/html": [
       "<div>\n",
       "<style scoped>\n",
       "    .dataframe tbody tr th:only-of-type {\n",
       "        vertical-align: middle;\n",
       "    }\n",
       "\n",
       "    .dataframe tbody tr th {\n",
       "        vertical-align: top;\n",
       "    }\n",
       "\n",
       "    .dataframe thead th {\n",
       "        text-align: right;\n",
       "    }\n",
       "</style>\n",
       "<table border=\"1\" class=\"dataframe\">\n",
       "  <thead>\n",
       "    <tr style=\"text-align: right;\">\n",
       "      <th></th>\n",
       "    </tr>\n",
       "  </thead>\n",
       "  <tbody>\n",
       "    <tr>\n",
       "      <th>MT-ND1</th>\n",
       "    </tr>\n",
       "    <tr>\n",
       "      <th>MT-ND2</th>\n",
       "    </tr>\n",
       "    <tr>\n",
       "      <th>MT-CO1</th>\n",
       "    </tr>\n",
       "    <tr>\n",
       "      <th>MT-CO2</th>\n",
       "    </tr>\n",
       "    <tr>\n",
       "      <th>MT-ATP8</th>\n",
       "    </tr>\n",
       "    <tr>\n",
       "      <th>MT-ATP6</th>\n",
       "    </tr>\n",
       "    <tr>\n",
       "      <th>MT-CO3</th>\n",
       "    </tr>\n",
       "    <tr>\n",
       "      <th>MT-ND3</th>\n",
       "    </tr>\n",
       "    <tr>\n",
       "      <th>MT-ND4L</th>\n",
       "    </tr>\n",
       "    <tr>\n",
       "      <th>MT-ND4</th>\n",
       "    </tr>\n",
       "    <tr>\n",
       "      <th>MT-ND5</th>\n",
       "    </tr>\n",
       "    <tr>\n",
       "      <th>MT-ND6</th>\n",
       "    </tr>\n",
       "    <tr>\n",
       "      <th>MT-CYB</th>\n",
       "    </tr>\n",
       "  </tbody>\n",
       "</table>\n",
       "</div>"
      ],
      "text/plain": [
       "Empty DataFrame\n",
       "Columns: []\n",
       "Index: [MT-ND1, MT-ND2, MT-CO1, MT-CO2, MT-ATP8, MT-ATP6, MT-CO3, MT-ND3, MT-ND4L, MT-ND4, MT-ND5, MT-ND6, MT-CYB]"
      ]
     },
     "execution_count": 24,
     "metadata": {},
     "output_type": "execute_result"
    }
   ],
   "source": [
    "# Filter values starting with MT-\n",
    "adata.var[adata.var.index.str.startswith('MT-')]"
   ]
  },
  {
   "cell_type": "code",
   "execution_count": 25,
   "metadata": {},
   "outputs": [
    {
     "name": "stderr",
     "output_type": "stream",
     "text": [
      "/tmp/ipykernel_16752/2263187484.py:2: ImplicitModificationWarning: Trying to modify attribute `.var` of view, initializing view as actual.\n",
      "  adata.var['mt'] = adata.var.index.str.startswith('MT-')\n"
     ]
    },
    {
     "data": {
      "text/html": [
       "<div>\n",
       "<style scoped>\n",
       "    .dataframe tbody tr th:only-of-type {\n",
       "        vertical-align: middle;\n",
       "    }\n",
       "\n",
       "    .dataframe tbody tr th {\n",
       "        vertical-align: top;\n",
       "    }\n",
       "\n",
       "    .dataframe thead th {\n",
       "        text-align: right;\n",
       "    }\n",
       "</style>\n",
       "<table border=\"1\" class=\"dataframe\">\n",
       "  <thead>\n",
       "    <tr style=\"text-align: right;\">\n",
       "      <th></th>\n",
       "      <th>mt</th>\n",
       "    </tr>\n",
       "  </thead>\n",
       "  <tbody>\n",
       "    <tr>\n",
       "      <th>AL627309.1</th>\n",
       "      <td>False</td>\n",
       "    </tr>\n",
       "    <tr>\n",
       "      <th>AL627309.5</th>\n",
       "      <td>False</td>\n",
       "    </tr>\n",
       "    <tr>\n",
       "      <th>AL627309.4</th>\n",
       "      <td>False</td>\n",
       "    </tr>\n",
       "    <tr>\n",
       "      <th>AL669831.2</th>\n",
       "      <td>False</td>\n",
       "    </tr>\n",
       "    <tr>\n",
       "      <th>LINC01409</th>\n",
       "      <td>False</td>\n",
       "    </tr>\n",
       "    <tr>\n",
       "      <th>...</th>\n",
       "      <td>...</td>\n",
       "    </tr>\n",
       "    <tr>\n",
       "      <th>VN1R2</th>\n",
       "      <td>False</td>\n",
       "    </tr>\n",
       "    <tr>\n",
       "      <th>AL031676.1</th>\n",
       "      <td>False</td>\n",
       "    </tr>\n",
       "    <tr>\n",
       "      <th>SMIM34A</th>\n",
       "      <td>False</td>\n",
       "    </tr>\n",
       "    <tr>\n",
       "      <th>AL050402.1</th>\n",
       "      <td>False</td>\n",
       "    </tr>\n",
       "    <tr>\n",
       "      <th>AL445072.1</th>\n",
       "      <td>False</td>\n",
       "    </tr>\n",
       "  </tbody>\n",
       "</table>\n",
       "<p>34546 rows × 1 columns</p>\n",
       "</div>"
      ],
      "text/plain": [
       "               mt\n",
       "AL627309.1  False\n",
       "AL627309.5  False\n",
       "AL627309.4  False\n",
       "AL669831.2  False\n",
       "LINC01409   False\n",
       "...           ...\n",
       "VN1R2       False\n",
       "AL031676.1  False\n",
       "SMIM34A     False\n",
       "AL050402.1  False\n",
       "AL445072.1  False\n",
       "\n",
       "[34546 rows x 1 columns]"
      ]
     },
     "execution_count": 25,
     "metadata": {},
     "output_type": "execute_result"
    }
   ],
   "source": [
    "# Add mt column -- True or False\n",
    "adata.var['mt'] = adata.var.index.str.startswith('MT-')\n",
    "adata.var"
   ]
  },
  {
   "cell_type": "markdown",
   "metadata": {},
   "source": [
    "- Label genes of Ribosomal origin\n",
    "\n",
    "We will use a reference list of Ribosomal genes from broadinstitute"
   ]
  },
  {
   "cell_type": "code",
   "execution_count": 26,
   "metadata": {},
   "outputs": [
    {
     "data": {
      "text/html": [
       "<div>\n",
       "<style scoped>\n",
       "    .dataframe tbody tr th:only-of-type {\n",
       "        vertical-align: middle;\n",
       "    }\n",
       "\n",
       "    .dataframe tbody tr th {\n",
       "        vertical-align: top;\n",
       "    }\n",
       "\n",
       "    .dataframe thead th {\n",
       "        text-align: right;\n",
       "    }\n",
       "</style>\n",
       "<table border=\"1\" class=\"dataframe\">\n",
       "  <thead>\n",
       "    <tr style=\"text-align: right;\">\n",
       "      <th></th>\n",
       "      <th>0</th>\n",
       "    </tr>\n",
       "  </thead>\n",
       "  <tbody>\n",
       "    <tr>\n",
       "      <th>0</th>\n",
       "      <td>FAU</td>\n",
       "    </tr>\n",
       "    <tr>\n",
       "      <th>1</th>\n",
       "      <td>MRPL13</td>\n",
       "    </tr>\n",
       "    <tr>\n",
       "      <th>2</th>\n",
       "      <td>RPL10</td>\n",
       "    </tr>\n",
       "    <tr>\n",
       "      <th>3</th>\n",
       "      <td>RPL10A</td>\n",
       "    </tr>\n",
       "    <tr>\n",
       "      <th>4</th>\n",
       "      <td>RPL10L</td>\n",
       "    </tr>\n",
       "    <tr>\n",
       "      <th>...</th>\n",
       "      <td>...</td>\n",
       "    </tr>\n",
       "    <tr>\n",
       "      <th>83</th>\n",
       "      <td>RPS9</td>\n",
       "    </tr>\n",
       "    <tr>\n",
       "      <th>84</th>\n",
       "      <td>RPSA</td>\n",
       "    </tr>\n",
       "    <tr>\n",
       "      <th>85</th>\n",
       "      <td>RSL24D1</td>\n",
       "    </tr>\n",
       "    <tr>\n",
       "      <th>86</th>\n",
       "      <td>RSL24D1P11</td>\n",
       "    </tr>\n",
       "    <tr>\n",
       "      <th>87</th>\n",
       "      <td>UBA52</td>\n",
       "    </tr>\n",
       "  </tbody>\n",
       "</table>\n",
       "<p>88 rows × 1 columns</p>\n",
       "</div>"
      ],
      "text/plain": [
       "             0\n",
       "0          FAU\n",
       "1       MRPL13\n",
       "2        RPL10\n",
       "3       RPL10A\n",
       "4       RPL10L\n",
       "..         ...\n",
       "83        RPS9\n",
       "84        RPSA\n",
       "85     RSL24D1\n",
       "86  RSL24D1P11\n",
       "87       UBA52\n",
       "\n",
       "[88 rows x 1 columns]"
      ]
     },
     "execution_count": 26,
     "metadata": {},
     "output_type": "execute_result"
    }
   ],
   "source": [
    "# Label genes of Ribosomal origin\n",
    "import pandas as pd\n",
    "ribo_url = \"http://software.broadinstitute.org/gsea/msigdb/download_geneset.jsp?geneSetName=KEGG_RIBOSOME&fileType=txt\"\n",
    "ribo_genes = pd.read_table(ribo_url, skiprows=2, header = None)\n",
    "ribo_genes"
   ]
  },
  {
   "cell_type": "code",
   "execution_count": 27,
   "metadata": {},
   "outputs": [
    {
     "data": {
      "text/plain": [
       "array(['FAU', 'MRPL13', 'RPL10', 'RPL10A', 'RPL10L', 'RPL11', 'RPL12',\n",
       "       'RPL13', 'RPL13A', 'RPL14', 'RPL15', 'RPL17', 'RPL18', 'RPL18A',\n",
       "       'RPL19', 'RPL21', 'RPL22', 'RPL22L1', 'RPL23', 'RPL23A', 'RPL24',\n",
       "       'RPL26', 'RPL26L1', 'RPL27', 'RPL27A', 'RPL28', 'RPL29', 'RPL3',\n",
       "       'RPL30', 'RPL31', 'RPL32', 'RPL34', 'RPL35', 'RPL35A', 'RPL36',\n",
       "       'RPL36A', 'RPL36AL', 'RPL37', 'RPL37A', 'RPL38', 'RPL39', 'RPL3L',\n",
       "       'RPL4', 'RPL41', 'RPL5', 'RPL6', 'RPL7', 'RPL7A', 'RPL8', 'RPL9',\n",
       "       'RPLP0', 'RPLP1', 'RPLP2', 'RPS10', 'RPS11', 'RPS12', 'RPS13',\n",
       "       'RPS15', 'RPS15A', 'RPS16', 'RPS17', 'RPS18', 'RPS19', 'RPS2',\n",
       "       'RPS20', 'RPS21', 'RPS23', 'RPS24', 'RPS25', 'RPS26', 'RPS27',\n",
       "       'RPS27A', 'RPS27L', 'RPS28', 'RPS29', 'RPS3', 'RPS3A', 'RPS4X',\n",
       "       'RPS4Y1', 'RPS5', 'RPS6', 'RPS7', 'RPS8', 'RPS9', 'RPSA',\n",
       "       'RSL24D1', 'RSL24D1P11', 'UBA52'], dtype=object)"
      ]
     },
     "execution_count": 27,
     "metadata": {},
     "output_type": "execute_result"
    }
   ],
   "source": [
    "# Call the list of the genes\n",
    "ribo_genes[0].values # Why 0?"
   ]
  },
  {
   "cell_type": "code",
   "execution_count": 28,
   "metadata": {},
   "outputs": [
    {
     "data": {
      "text/html": [
       "<div>\n",
       "<style scoped>\n",
       "    .dataframe tbody tr th:only-of-type {\n",
       "        vertical-align: middle;\n",
       "    }\n",
       "\n",
       "    .dataframe tbody tr th {\n",
       "        vertical-align: top;\n",
       "    }\n",
       "\n",
       "    .dataframe thead th {\n",
       "        text-align: right;\n",
       "    }\n",
       "</style>\n",
       "<table border=\"1\" class=\"dataframe\">\n",
       "  <thead>\n",
       "    <tr style=\"text-align: right;\">\n",
       "      <th></th>\n",
       "      <th>mt</th>\n",
       "      <th>ribo</th>\n",
       "    </tr>\n",
       "  </thead>\n",
       "  <tbody>\n",
       "    <tr>\n",
       "      <th>AL627309.1</th>\n",
       "      <td>False</td>\n",
       "      <td>False</td>\n",
       "    </tr>\n",
       "    <tr>\n",
       "      <th>AL627309.5</th>\n",
       "      <td>False</td>\n",
       "      <td>False</td>\n",
       "    </tr>\n",
       "    <tr>\n",
       "      <th>AL627309.4</th>\n",
       "      <td>False</td>\n",
       "      <td>False</td>\n",
       "    </tr>\n",
       "    <tr>\n",
       "      <th>AL669831.2</th>\n",
       "      <td>False</td>\n",
       "      <td>False</td>\n",
       "    </tr>\n",
       "    <tr>\n",
       "      <th>LINC01409</th>\n",
       "      <td>False</td>\n",
       "      <td>False</td>\n",
       "    </tr>\n",
       "    <tr>\n",
       "      <th>...</th>\n",
       "      <td>...</td>\n",
       "      <td>...</td>\n",
       "    </tr>\n",
       "    <tr>\n",
       "      <th>VN1R2</th>\n",
       "      <td>False</td>\n",
       "      <td>False</td>\n",
       "    </tr>\n",
       "    <tr>\n",
       "      <th>AL031676.1</th>\n",
       "      <td>False</td>\n",
       "      <td>False</td>\n",
       "    </tr>\n",
       "    <tr>\n",
       "      <th>SMIM34A</th>\n",
       "      <td>False</td>\n",
       "      <td>False</td>\n",
       "    </tr>\n",
       "    <tr>\n",
       "      <th>AL050402.1</th>\n",
       "      <td>False</td>\n",
       "      <td>False</td>\n",
       "    </tr>\n",
       "    <tr>\n",
       "      <th>AL445072.1</th>\n",
       "      <td>False</td>\n",
       "      <td>False</td>\n",
       "    </tr>\n",
       "  </tbody>\n",
       "</table>\n",
       "<p>34546 rows × 2 columns</p>\n",
       "</div>"
      ],
      "text/plain": [
       "               mt   ribo\n",
       "AL627309.1  False  False\n",
       "AL627309.5  False  False\n",
       "AL627309.4  False  False\n",
       "AL669831.2  False  False\n",
       "LINC01409   False  False\n",
       "...           ...    ...\n",
       "VN1R2       False  False\n",
       "AL031676.1  False  False\n",
       "SMIM34A     False  False\n",
       "AL050402.1  False  False\n",
       "AL445072.1  False  False\n",
       "\n",
       "[34546 rows x 2 columns]"
      ]
     },
     "execution_count": 28,
     "metadata": {},
     "output_type": "execute_result"
    }
   ],
   "source": [
    "# Annotate ribo genes\n",
    "#                  is gene name in var dataframe, is it in this list \n",
    "adata.var['ribo'] = adata.var_names.isin(ribo_genes[0].values)\n",
    "adata.var"
   ]
  },
  {
   "cell_type": "markdown",
   "metadata": {},
   "source": [
    "Calculate qc metrics\n",
    "\n",
    "qc vars correspond to columns mt, ribo\n",
    "\n",
    "run adata.var again to find a statistics portion for each gene\n",
    "\n",
    "percent dropout is very high for the majority of the genes"
   ]
  },
  {
   "cell_type": "code",
   "execution_count": 29,
   "metadata": {},
   "outputs": [],
   "source": [
    "#Calculate QCmetrics\n",
    "sc.pp.calculate_qc_metrics(adata, qc_vars=['mt', 'ribo'], percent_top=None, log1p=False, inplace=True)"
   ]
  },
  {
   "cell_type": "code",
   "execution_count": 30,
   "metadata": {},
   "outputs": [
    {
     "data": {
      "text/html": [
       "<div>\n",
       "<style scoped>\n",
       "    .dataframe tbody tr th:only-of-type {\n",
       "        vertical-align: middle;\n",
       "    }\n",
       "\n",
       "    .dataframe tbody tr th {\n",
       "        vertical-align: top;\n",
       "    }\n",
       "\n",
       "    .dataframe thead th {\n",
       "        text-align: right;\n",
       "    }\n",
       "</style>\n",
       "<table border=\"1\" class=\"dataframe\">\n",
       "  <thead>\n",
       "    <tr style=\"text-align: right;\">\n",
       "      <th></th>\n",
       "      <th>mt</th>\n",
       "      <th>ribo</th>\n",
       "      <th>n_cells_by_counts</th>\n",
       "      <th>mean_counts</th>\n",
       "      <th>pct_dropout_by_counts</th>\n",
       "      <th>total_counts</th>\n",
       "    </tr>\n",
       "  </thead>\n",
       "  <tbody>\n",
       "    <tr>\n",
       "      <th>AL627309.1</th>\n",
       "      <td>False</td>\n",
       "      <td>False</td>\n",
       "      <td>8</td>\n",
       "      <td>0.001312</td>\n",
       "      <td>99.868831</td>\n",
       "      <td>8.0</td>\n",
       "    </tr>\n",
       "    <tr>\n",
       "      <th>AL627309.5</th>\n",
       "      <td>False</td>\n",
       "      <td>False</td>\n",
       "      <td>33</td>\n",
       "      <td>0.005411</td>\n",
       "      <td>99.458928</td>\n",
       "      <td>33.0</td>\n",
       "    </tr>\n",
       "    <tr>\n",
       "      <th>AL627309.4</th>\n",
       "      <td>False</td>\n",
       "      <td>False</td>\n",
       "      <td>4</td>\n",
       "      <td>0.000656</td>\n",
       "      <td>99.934415</td>\n",
       "      <td>4.0</td>\n",
       "    </tr>\n",
       "    <tr>\n",
       "      <th>AL669831.2</th>\n",
       "      <td>False</td>\n",
       "      <td>False</td>\n",
       "      <td>2</td>\n",
       "      <td>0.000328</td>\n",
       "      <td>99.967208</td>\n",
       "      <td>2.0</td>\n",
       "    </tr>\n",
       "    <tr>\n",
       "      <th>LINC01409</th>\n",
       "      <td>False</td>\n",
       "      <td>False</td>\n",
       "      <td>274</td>\n",
       "      <td>0.048697</td>\n",
       "      <td>95.507460</td>\n",
       "      <td>297.0</td>\n",
       "    </tr>\n",
       "    <tr>\n",
       "      <th>...</th>\n",
       "      <td>...</td>\n",
       "      <td>...</td>\n",
       "      <td>...</td>\n",
       "      <td>...</td>\n",
       "      <td>...</td>\n",
       "      <td>...</td>\n",
       "    </tr>\n",
       "    <tr>\n",
       "      <th>VN1R2</th>\n",
       "      <td>False</td>\n",
       "      <td>False</td>\n",
       "      <td>0</td>\n",
       "      <td>0.000000</td>\n",
       "      <td>100.000000</td>\n",
       "      <td>0.0</td>\n",
       "    </tr>\n",
       "    <tr>\n",
       "      <th>AL031676.1</th>\n",
       "      <td>False</td>\n",
       "      <td>False</td>\n",
       "      <td>0</td>\n",
       "      <td>0.000000</td>\n",
       "      <td>100.000000</td>\n",
       "      <td>0.0</td>\n",
       "    </tr>\n",
       "    <tr>\n",
       "      <th>SMIM34A</th>\n",
       "      <td>False</td>\n",
       "      <td>False</td>\n",
       "      <td>0</td>\n",
       "      <td>0.000000</td>\n",
       "      <td>100.000000</td>\n",
       "      <td>0.0</td>\n",
       "    </tr>\n",
       "    <tr>\n",
       "      <th>AL050402.1</th>\n",
       "      <td>False</td>\n",
       "      <td>False</td>\n",
       "      <td>0</td>\n",
       "      <td>0.000000</td>\n",
       "      <td>100.000000</td>\n",
       "      <td>0.0</td>\n",
       "    </tr>\n",
       "    <tr>\n",
       "      <th>AL445072.1</th>\n",
       "      <td>False</td>\n",
       "      <td>False</td>\n",
       "      <td>0</td>\n",
       "      <td>0.000000</td>\n",
       "      <td>100.000000</td>\n",
       "      <td>0.0</td>\n",
       "    </tr>\n",
       "  </tbody>\n",
       "</table>\n",
       "<p>34546 rows × 6 columns</p>\n",
       "</div>"
      ],
      "text/plain": [
       "               mt   ribo  n_cells_by_counts  mean_counts  \\\n",
       "AL627309.1  False  False                  8     0.001312   \n",
       "AL627309.5  False  False                 33     0.005411   \n",
       "AL627309.4  False  False                  4     0.000656   \n",
       "AL669831.2  False  False                  2     0.000328   \n",
       "LINC01409   False  False                274     0.048697   \n",
       "...           ...    ...                ...          ...   \n",
       "VN1R2       False  False                  0     0.000000   \n",
       "AL031676.1  False  False                  0     0.000000   \n",
       "SMIM34A     False  False                  0     0.000000   \n",
       "AL050402.1  False  False                  0     0.000000   \n",
       "AL445072.1  False  False                  0     0.000000   \n",
       "\n",
       "            pct_dropout_by_counts  total_counts  \n",
       "AL627309.1              99.868831           8.0  \n",
       "AL627309.5              99.458928          33.0  \n",
       "AL627309.4              99.934415           4.0  \n",
       "AL669831.2              99.967208           2.0  \n",
       "LINC01409               95.507460         297.0  \n",
       "...                           ...           ...  \n",
       "VN1R2                  100.000000           0.0  \n",
       "AL031676.1             100.000000           0.0  \n",
       "SMIM34A                100.000000           0.0  \n",
       "AL050402.1             100.000000           0.0  \n",
       "AL445072.1             100.000000           0.0  \n",
       "\n",
       "[34546 rows x 6 columns]"
      ]
     },
     "execution_count": 30,
     "metadata": {},
     "output_type": "execute_result"
    }
   ],
   "source": [
    "adata.var"
   ]
  },
  {
   "cell_type": "code",
   "execution_count": 31,
   "metadata": {},
   "outputs": [
    {
     "data": {
      "text/html": [
       "<div>\n",
       "<style scoped>\n",
       "    .dataframe tbody tr th:only-of-type {\n",
       "        vertical-align: middle;\n",
       "    }\n",
       "\n",
       "    .dataframe tbody tr th {\n",
       "        vertical-align: top;\n",
       "    }\n",
       "\n",
       "    .dataframe thead th {\n",
       "        text-align: right;\n",
       "    }\n",
       "</style>\n",
       "<table border=\"1\" class=\"dataframe\">\n",
       "  <thead>\n",
       "    <tr style=\"text-align: right;\">\n",
       "      <th></th>\n",
       "      <th>doublet</th>\n",
       "      <th>n_genes_by_counts</th>\n",
       "      <th>total_counts</th>\n",
       "      <th>total_counts_mt</th>\n",
       "      <th>pct_counts_mt</th>\n",
       "      <th>total_counts_ribo</th>\n",
       "      <th>pct_counts_ribo</th>\n",
       "    </tr>\n",
       "  </thead>\n",
       "  <tbody>\n",
       "    <tr>\n",
       "      <th>TAGGTACCATGGCCAC-1_1</th>\n",
       "      <td>False</td>\n",
       "      <td>6764</td>\n",
       "      <td>24256.0</td>\n",
       "      <td>153.0</td>\n",
       "      <td>0.630772</td>\n",
       "      <td>55.0</td>\n",
       "      <td>0.226748</td>\n",
       "    </tr>\n",
       "    <tr>\n",
       "      <th>ATTCACTGTAACAGGC-1_1</th>\n",
       "      <td>False</td>\n",
       "      <td>6686</td>\n",
       "      <td>19020.0</td>\n",
       "      <td>404.0</td>\n",
       "      <td>2.124080</td>\n",
       "      <td>115.0</td>\n",
       "      <td>0.604627</td>\n",
       "    </tr>\n",
       "    <tr>\n",
       "      <th>TAACTTCCAACCACGC-1_1</th>\n",
       "      <td>False</td>\n",
       "      <td>5158</td>\n",
       "      <td>15645.0</td>\n",
       "      <td>221.0</td>\n",
       "      <td>1.412592</td>\n",
       "      <td>211.0</td>\n",
       "      <td>1.348674</td>\n",
       "    </tr>\n",
       "    <tr>\n",
       "      <th>TTGGGTACACGACAAG-1_1</th>\n",
       "      <td>False</td>\n",
       "      <td>4900</td>\n",
       "      <td>15220.0</td>\n",
       "      <td>3.0</td>\n",
       "      <td>0.019711</td>\n",
       "      <td>5.0</td>\n",
       "      <td>0.032852</td>\n",
       "    </tr>\n",
       "    <tr>\n",
       "      <th>AGGCCACAGAGTCACG-1_1</th>\n",
       "      <td>False</td>\n",
       "      <td>5544</td>\n",
       "      <td>13217.0</td>\n",
       "      <td>417.0</td>\n",
       "      <td>3.155028</td>\n",
       "      <td>82.0</td>\n",
       "      <td>0.620413</td>\n",
       "    </tr>\n",
       "    <tr>\n",
       "      <th>...</th>\n",
       "      <td>...</td>\n",
       "      <td>...</td>\n",
       "      <td>...</td>\n",
       "      <td>...</td>\n",
       "      <td>...</td>\n",
       "      <td>...</td>\n",
       "      <td>...</td>\n",
       "    </tr>\n",
       "    <tr>\n",
       "      <th>CGCCATTGTTTGCCGG-1_1</th>\n",
       "      <td>False</td>\n",
       "      <td>355</td>\n",
       "      <td>410.0</td>\n",
       "      <td>3.0</td>\n",
       "      <td>0.731707</td>\n",
       "      <td>0.0</td>\n",
       "      <td>0.000000</td>\n",
       "    </tr>\n",
       "    <tr>\n",
       "      <th>CACTGGGGTCTACGTA-1_1</th>\n",
       "      <td>False</td>\n",
       "      <td>346</td>\n",
       "      <td>403.0</td>\n",
       "      <td>0.0</td>\n",
       "      <td>0.000000</td>\n",
       "      <td>0.0</td>\n",
       "      <td>0.000000</td>\n",
       "    </tr>\n",
       "    <tr>\n",
       "      <th>CATACTTGTAGAGGAA-1_1</th>\n",
       "      <td>False</td>\n",
       "      <td>360</td>\n",
       "      <td>410.0</td>\n",
       "      <td>2.0</td>\n",
       "      <td>0.487805</td>\n",
       "      <td>0.0</td>\n",
       "      <td>0.000000</td>\n",
       "    </tr>\n",
       "    <tr>\n",
       "      <th>TTTGGTTTCCACGGAC-1_1</th>\n",
       "      <td>False</td>\n",
       "      <td>299</td>\n",
       "      <td>405.0</td>\n",
       "      <td>0.0</td>\n",
       "      <td>0.000000</td>\n",
       "      <td>2.0</td>\n",
       "      <td>0.493827</td>\n",
       "    </tr>\n",
       "    <tr>\n",
       "      <th>ATGCATGAGTCATGAA-1_1</th>\n",
       "      <td>False</td>\n",
       "      <td>351</td>\n",
       "      <td>411.0</td>\n",
       "      <td>0.0</td>\n",
       "      <td>0.000000</td>\n",
       "      <td>0.0</td>\n",
       "      <td>0.000000</td>\n",
       "    </tr>\n",
       "  </tbody>\n",
       "</table>\n",
       "<p>6099 rows × 7 columns</p>\n",
       "</div>"
      ],
      "text/plain": [
       "                      doublet  n_genes_by_counts  total_counts  \\\n",
       "TAGGTACCATGGCCAC-1_1    False               6764       24256.0   \n",
       "ATTCACTGTAACAGGC-1_1    False               6686       19020.0   \n",
       "TAACTTCCAACCACGC-1_1    False               5158       15645.0   \n",
       "TTGGGTACACGACAAG-1_1    False               4900       15220.0   \n",
       "AGGCCACAGAGTCACG-1_1    False               5544       13217.0   \n",
       "...                       ...                ...           ...   \n",
       "CGCCATTGTTTGCCGG-1_1    False                355         410.0   \n",
       "CACTGGGGTCTACGTA-1_1    False                346         403.0   \n",
       "CATACTTGTAGAGGAA-1_1    False                360         410.0   \n",
       "TTTGGTTTCCACGGAC-1_1    False                299         405.0   \n",
       "ATGCATGAGTCATGAA-1_1    False                351         411.0   \n",
       "\n",
       "                      total_counts_mt  pct_counts_mt  total_counts_ribo  \\\n",
       "TAGGTACCATGGCCAC-1_1            153.0       0.630772               55.0   \n",
       "ATTCACTGTAACAGGC-1_1            404.0       2.124080              115.0   \n",
       "TAACTTCCAACCACGC-1_1            221.0       1.412592              211.0   \n",
       "TTGGGTACACGACAAG-1_1              3.0       0.019711                5.0   \n",
       "AGGCCACAGAGTCACG-1_1            417.0       3.155028               82.0   \n",
       "...                               ...            ...                ...   \n",
       "CGCCATTGTTTGCCGG-1_1              3.0       0.731707                0.0   \n",
       "CACTGGGGTCTACGTA-1_1              0.0       0.000000                0.0   \n",
       "CATACTTGTAGAGGAA-1_1              2.0       0.487805                0.0   \n",
       "TTTGGTTTCCACGGAC-1_1              0.0       0.000000                2.0   \n",
       "ATGCATGAGTCATGAA-1_1              0.0       0.000000                0.0   \n",
       "\n",
       "                      pct_counts_ribo  \n",
       "TAGGTACCATGGCCAC-1_1         0.226748  \n",
       "ATTCACTGTAACAGGC-1_1         0.604627  \n",
       "TAACTTCCAACCACGC-1_1         1.348674  \n",
       "TTGGGTACACGACAAG-1_1         0.032852  \n",
       "AGGCCACAGAGTCACG-1_1         0.620413  \n",
       "...                               ...  \n",
       "CGCCATTGTTTGCCGG-1_1         0.000000  \n",
       "CACTGGGGTCTACGTA-1_1         0.000000  \n",
       "CATACTTGTAGAGGAA-1_1         0.000000  \n",
       "TTTGGTTTCCACGGAC-1_1         0.493827  \n",
       "ATGCATGAGTCATGAA-1_1         0.000000  \n",
       "\n",
       "[6099 rows x 7 columns]"
      ]
     },
     "execution_count": 31,
     "metadata": {},
     "output_type": "execute_result"
    }
   ],
   "source": [
    "adata.obs"
   ]
  },
  {
   "cell_type": "code",
   "execution_count": 32,
   "metadata": {},
   "outputs": [
    {
     "data": {
      "text/html": [
       "<div>\n",
       "<style scoped>\n",
       "    .dataframe tbody tr th:only-of-type {\n",
       "        vertical-align: middle;\n",
       "    }\n",
       "\n",
       "    .dataframe tbody tr th {\n",
       "        vertical-align: top;\n",
       "    }\n",
       "\n",
       "    .dataframe thead th {\n",
       "        text-align: right;\n",
       "    }\n",
       "</style>\n",
       "<table border=\"1\" class=\"dataframe\">\n",
       "  <thead>\n",
       "    <tr style=\"text-align: right;\">\n",
       "      <th></th>\n",
       "      <th>mt</th>\n",
       "      <th>ribo</th>\n",
       "      <th>n_cells_by_counts</th>\n",
       "      <th>mean_counts</th>\n",
       "      <th>pct_dropout_by_counts</th>\n",
       "      <th>total_counts</th>\n",
       "    </tr>\n",
       "  </thead>\n",
       "  <tbody>\n",
       "    <tr>\n",
       "      <th>AL445072.1</th>\n",
       "      <td>False</td>\n",
       "      <td>False</td>\n",
       "      <td>0</td>\n",
       "      <td>0.000000</td>\n",
       "      <td>100.000000</td>\n",
       "      <td>0.0</td>\n",
       "    </tr>\n",
       "    <tr>\n",
       "      <th>AC073270.1</th>\n",
       "      <td>False</td>\n",
       "      <td>False</td>\n",
       "      <td>0</td>\n",
       "      <td>0.000000</td>\n",
       "      <td>100.000000</td>\n",
       "      <td>0.0</td>\n",
       "    </tr>\n",
       "    <tr>\n",
       "      <th>AC073349.5</th>\n",
       "      <td>False</td>\n",
       "      <td>False</td>\n",
       "      <td>0</td>\n",
       "      <td>0.000000</td>\n",
       "      <td>100.000000</td>\n",
       "      <td>0.0</td>\n",
       "    </tr>\n",
       "    <tr>\n",
       "      <th>AC005482.1</th>\n",
       "      <td>False</td>\n",
       "      <td>False</td>\n",
       "      <td>0</td>\n",
       "      <td>0.000000</td>\n",
       "      <td>100.000000</td>\n",
       "      <td>0.0</td>\n",
       "    </tr>\n",
       "    <tr>\n",
       "      <th>SPDYE8P</th>\n",
       "      <td>False</td>\n",
       "      <td>False</td>\n",
       "      <td>0</td>\n",
       "      <td>0.000000</td>\n",
       "      <td>100.000000</td>\n",
       "      <td>0.0</td>\n",
       "    </tr>\n",
       "    <tr>\n",
       "      <th>...</th>\n",
       "      <td>...</td>\n",
       "      <td>...</td>\n",
       "      <td>...</td>\n",
       "      <td>...</td>\n",
       "      <td>...</td>\n",
       "      <td>...</td>\n",
       "    </tr>\n",
       "    <tr>\n",
       "      <th>AKAP13</th>\n",
       "      <td>False</td>\n",
       "      <td>False</td>\n",
       "      <td>4458</td>\n",
       "      <td>3.054271</td>\n",
       "      <td>26.906050</td>\n",
       "      <td>18628.0</td>\n",
       "    </tr>\n",
       "    <tr>\n",
       "      <th>NEAT1</th>\n",
       "      <td>False</td>\n",
       "      <td>False</td>\n",
       "      <td>4546</td>\n",
       "      <td>5.314150</td>\n",
       "      <td>25.463191</td>\n",
       "      <td>32411.0</td>\n",
       "    </tr>\n",
       "    <tr>\n",
       "      <th>MBNL1</th>\n",
       "      <td>False</td>\n",
       "      <td>False</td>\n",
       "      <td>4554</td>\n",
       "      <td>2.877029</td>\n",
       "      <td>25.332022</td>\n",
       "      <td>17547.0</td>\n",
       "    </tr>\n",
       "    <tr>\n",
       "      <th>ZBTB20</th>\n",
       "      <td>False</td>\n",
       "      <td>False</td>\n",
       "      <td>4699</td>\n",
       "      <td>2.601082</td>\n",
       "      <td>22.954583</td>\n",
       "      <td>15864.0</td>\n",
       "    </tr>\n",
       "    <tr>\n",
       "      <th>MALAT1</th>\n",
       "      <td>False</td>\n",
       "      <td>False</td>\n",
       "      <td>6090</td>\n",
       "      <td>69.016563</td>\n",
       "      <td>0.147565</td>\n",
       "      <td>420932.0</td>\n",
       "    </tr>\n",
       "  </tbody>\n",
       "</table>\n",
       "<p>34546 rows × 6 columns</p>\n",
       "</div>"
      ],
      "text/plain": [
       "               mt   ribo  n_cells_by_counts  mean_counts  \\\n",
       "AL445072.1  False  False                  0     0.000000   \n",
       "AC073270.1  False  False                  0     0.000000   \n",
       "AC073349.5  False  False                  0     0.000000   \n",
       "AC005482.1  False  False                  0     0.000000   \n",
       "SPDYE8P     False  False                  0     0.000000   \n",
       "...           ...    ...                ...          ...   \n",
       "AKAP13      False  False               4458     3.054271   \n",
       "NEAT1       False  False               4546     5.314150   \n",
       "MBNL1       False  False               4554     2.877029   \n",
       "ZBTB20      False  False               4699     2.601082   \n",
       "MALAT1      False  False               6090    69.016563   \n",
       "\n",
       "            pct_dropout_by_counts  total_counts  \n",
       "AL445072.1             100.000000           0.0  \n",
       "AC073270.1             100.000000           0.0  \n",
       "AC073349.5             100.000000           0.0  \n",
       "AC005482.1             100.000000           0.0  \n",
       "SPDYE8P                100.000000           0.0  \n",
       "...                           ...           ...  \n",
       "AKAP13                  26.906050       18628.0  \n",
       "NEAT1                   25.463191       32411.0  \n",
       "MBNL1                   25.332022       17547.0  \n",
       "ZBTB20                  22.954583       15864.0  \n",
       "MALAT1                   0.147565      420932.0  \n",
       "\n",
       "[34546 rows x 6 columns]"
      ]
     },
     "execution_count": 32,
     "metadata": {},
     "output_type": "execute_result"
    }
   ],
   "source": [
    "# Sort according to number of genes found in cells\n",
    "adata.var.sort_values('n_cells_by_counts')"
   ]
  },
  {
   "cell_type": "markdown",
   "metadata": {},
   "source": [
    "inference: some genes were in almost every cell, others were in no cells"
   ]
  },
  {
   "cell_type": "code",
   "execution_count": 33,
   "metadata": {},
   "outputs": [],
   "source": [
    "# Filter out the genes in at least 3 cells\n",
    "sc.pp.filter_genes(adata, min_cells=3)"
   ]
  },
  {
   "cell_type": "code",
   "execution_count": 34,
   "metadata": {},
   "outputs": [
    {
     "data": {
      "text/html": [
       "<div>\n",
       "<style scoped>\n",
       "    .dataframe tbody tr th:only-of-type {\n",
       "        vertical-align: middle;\n",
       "    }\n",
       "\n",
       "    .dataframe tbody tr th {\n",
       "        vertical-align: top;\n",
       "    }\n",
       "\n",
       "    .dataframe thead th {\n",
       "        text-align: right;\n",
       "    }\n",
       "</style>\n",
       "<table border=\"1\" class=\"dataframe\">\n",
       "  <thead>\n",
       "    <tr style=\"text-align: right;\">\n",
       "      <th></th>\n",
       "      <th>mt</th>\n",
       "      <th>ribo</th>\n",
       "      <th>n_cells_by_counts</th>\n",
       "      <th>mean_counts</th>\n",
       "      <th>pct_dropout_by_counts</th>\n",
       "      <th>total_counts</th>\n",
       "      <th>n_cells</th>\n",
       "    </tr>\n",
       "  </thead>\n",
       "  <tbody>\n",
       "    <tr>\n",
       "      <th>AL929091.1</th>\n",
       "      <td>False</td>\n",
       "      <td>False</td>\n",
       "      <td>3</td>\n",
       "      <td>0.000492</td>\n",
       "      <td>99.950812</td>\n",
       "      <td>3.0</td>\n",
       "      <td>3</td>\n",
       "    </tr>\n",
       "    <tr>\n",
       "      <th>AC006441.3</th>\n",
       "      <td>False</td>\n",
       "      <td>False</td>\n",
       "      <td>3</td>\n",
       "      <td>0.000492</td>\n",
       "      <td>99.950812</td>\n",
       "      <td>3.0</td>\n",
       "      <td>3</td>\n",
       "    </tr>\n",
       "    <tr>\n",
       "      <th>AC022017.1</th>\n",
       "      <td>False</td>\n",
       "      <td>False</td>\n",
       "      <td>3</td>\n",
       "      <td>0.000492</td>\n",
       "      <td>99.950812</td>\n",
       "      <td>3.0</td>\n",
       "      <td>3</td>\n",
       "    </tr>\n",
       "    <tr>\n",
       "      <th>AC024597.1</th>\n",
       "      <td>False</td>\n",
       "      <td>False</td>\n",
       "      <td>3</td>\n",
       "      <td>0.000492</td>\n",
       "      <td>99.950812</td>\n",
       "      <td>3.0</td>\n",
       "      <td>3</td>\n",
       "    </tr>\n",
       "    <tr>\n",
       "      <th>PCARE</th>\n",
       "      <td>False</td>\n",
       "      <td>False</td>\n",
       "      <td>3</td>\n",
       "      <td>0.000492</td>\n",
       "      <td>99.950812</td>\n",
       "      <td>3.0</td>\n",
       "      <td>3</td>\n",
       "    </tr>\n",
       "    <tr>\n",
       "      <th>...</th>\n",
       "      <td>...</td>\n",
       "      <td>...</td>\n",
       "      <td>...</td>\n",
       "      <td>...</td>\n",
       "      <td>...</td>\n",
       "      <td>...</td>\n",
       "      <td>...</td>\n",
       "    </tr>\n",
       "    <tr>\n",
       "      <th>AKAP13</th>\n",
       "      <td>False</td>\n",
       "      <td>False</td>\n",
       "      <td>4458</td>\n",
       "      <td>3.054271</td>\n",
       "      <td>26.906050</td>\n",
       "      <td>18628.0</td>\n",
       "      <td>4458</td>\n",
       "    </tr>\n",
       "    <tr>\n",
       "      <th>NEAT1</th>\n",
       "      <td>False</td>\n",
       "      <td>False</td>\n",
       "      <td>4546</td>\n",
       "      <td>5.314150</td>\n",
       "      <td>25.463191</td>\n",
       "      <td>32411.0</td>\n",
       "      <td>4546</td>\n",
       "    </tr>\n",
       "    <tr>\n",
       "      <th>MBNL1</th>\n",
       "      <td>False</td>\n",
       "      <td>False</td>\n",
       "      <td>4554</td>\n",
       "      <td>2.877029</td>\n",
       "      <td>25.332022</td>\n",
       "      <td>17547.0</td>\n",
       "      <td>4554</td>\n",
       "    </tr>\n",
       "    <tr>\n",
       "      <th>ZBTB20</th>\n",
       "      <td>False</td>\n",
       "      <td>False</td>\n",
       "      <td>4699</td>\n",
       "      <td>2.601082</td>\n",
       "      <td>22.954583</td>\n",
       "      <td>15864.0</td>\n",
       "      <td>4699</td>\n",
       "    </tr>\n",
       "    <tr>\n",
       "      <th>MALAT1</th>\n",
       "      <td>False</td>\n",
       "      <td>False</td>\n",
       "      <td>6090</td>\n",
       "      <td>69.016563</td>\n",
       "      <td>0.147565</td>\n",
       "      <td>420932.0</td>\n",
       "      <td>6090</td>\n",
       "    </tr>\n",
       "  </tbody>\n",
       "</table>\n",
       "<p>24660 rows × 7 columns</p>\n",
       "</div>"
      ],
      "text/plain": [
       "               mt   ribo  n_cells_by_counts  mean_counts  \\\n",
       "AL929091.1  False  False                  3     0.000492   \n",
       "AC006441.3  False  False                  3     0.000492   \n",
       "AC022017.1  False  False                  3     0.000492   \n",
       "AC024597.1  False  False                  3     0.000492   \n",
       "PCARE       False  False                  3     0.000492   \n",
       "...           ...    ...                ...          ...   \n",
       "AKAP13      False  False               4458     3.054271   \n",
       "NEAT1       False  False               4546     5.314150   \n",
       "MBNL1       False  False               4554     2.877029   \n",
       "ZBTB20      False  False               4699     2.601082   \n",
       "MALAT1      False  False               6090    69.016563   \n",
       "\n",
       "            pct_dropout_by_counts  total_counts  n_cells  \n",
       "AL929091.1              99.950812           3.0        3  \n",
       "AC006441.3              99.950812           3.0        3  \n",
       "AC022017.1              99.950812           3.0        3  \n",
       "AC024597.1              99.950812           3.0        3  \n",
       "PCARE                   99.950812           3.0        3  \n",
       "...                           ...           ...      ...  \n",
       "AKAP13                  26.906050       18628.0     4458  \n",
       "NEAT1                   25.463191       32411.0     4546  \n",
       "MBNL1                   25.332022       17547.0     4554  \n",
       "ZBTB20                  22.954583       15864.0     4699  \n",
       "MALAT1                   0.147565      420932.0     6090  \n",
       "\n",
       "[24660 rows x 7 columns]"
      ]
     },
     "execution_count": 34,
     "metadata": {},
     "output_type": "execute_result"
    }
   ],
   "source": [
    "adata.var.sort_values('n_cells_by_counts')"
   ]
  },
  {
   "cell_type": "markdown",
   "metadata": {},
   "source": [
    "Typically, after that we filter on counts"
   ]
  },
  {
   "cell_type": "code",
   "execution_count": 35,
   "metadata": {},
   "outputs": [
    {
     "data": {
      "text/html": [
       "<div>\n",
       "<style scoped>\n",
       "    .dataframe tbody tr th:only-of-type {\n",
       "        vertical-align: middle;\n",
       "    }\n",
       "\n",
       "    .dataframe tbody tr th {\n",
       "        vertical-align: top;\n",
       "    }\n",
       "\n",
       "    .dataframe thead th {\n",
       "        text-align: right;\n",
       "    }\n",
       "</style>\n",
       "<table border=\"1\" class=\"dataframe\">\n",
       "  <thead>\n",
       "    <tr style=\"text-align: right;\">\n",
       "      <th></th>\n",
       "      <th>doublet</th>\n",
       "      <th>n_genes_by_counts</th>\n",
       "      <th>total_counts</th>\n",
       "      <th>total_counts_mt</th>\n",
       "      <th>pct_counts_mt</th>\n",
       "      <th>total_counts_ribo</th>\n",
       "      <th>pct_counts_ribo</th>\n",
       "    </tr>\n",
       "  </thead>\n",
       "  <tbody>\n",
       "    <tr>\n",
       "      <th>TGGTACAGTTGGTGTT-1_1</th>\n",
       "      <td>False</td>\n",
       "      <td>323</td>\n",
       "      <td>401.0</td>\n",
       "      <td>0.0</td>\n",
       "      <td>0.000000</td>\n",
       "      <td>0.0</td>\n",
       "      <td>0.000000</td>\n",
       "    </tr>\n",
       "    <tr>\n",
       "      <th>CTCAACCGTTTGGGAG-1_1</th>\n",
       "      <td>False</td>\n",
       "      <td>325</td>\n",
       "      <td>401.0</td>\n",
       "      <td>0.0</td>\n",
       "      <td>0.000000</td>\n",
       "      <td>0.0</td>\n",
       "      <td>0.000000</td>\n",
       "    </tr>\n",
       "    <tr>\n",
       "      <th>GTCGTTCTCCAAGGGA-1_1</th>\n",
       "      <td>False</td>\n",
       "      <td>300</td>\n",
       "      <td>401.0</td>\n",
       "      <td>0.0</td>\n",
       "      <td>0.000000</td>\n",
       "      <td>0.0</td>\n",
       "      <td>0.000000</td>\n",
       "    </tr>\n",
       "    <tr>\n",
       "      <th>CGAGAAGGTGAACTAA-1_1</th>\n",
       "      <td>False</td>\n",
       "      <td>308</td>\n",
       "      <td>401.0</td>\n",
       "      <td>0.0</td>\n",
       "      <td>0.000000</td>\n",
       "      <td>0.0</td>\n",
       "      <td>0.000000</td>\n",
       "    </tr>\n",
       "    <tr>\n",
       "      <th>CAGGGCTTCATGCGGC-1_1</th>\n",
       "      <td>False</td>\n",
       "      <td>330</td>\n",
       "      <td>401.0</td>\n",
       "      <td>7.0</td>\n",
       "      <td>1.745636</td>\n",
       "      <td>1.0</td>\n",
       "      <td>0.249377</td>\n",
       "    </tr>\n",
       "    <tr>\n",
       "      <th>...</th>\n",
       "      <td>...</td>\n",
       "      <td>...</td>\n",
       "      <td>...</td>\n",
       "      <td>...</td>\n",
       "      <td>...</td>\n",
       "      <td>...</td>\n",
       "      <td>...</td>\n",
       "    </tr>\n",
       "    <tr>\n",
       "      <th>AGGCCACAGAGTCACG-1_1</th>\n",
       "      <td>False</td>\n",
       "      <td>5544</td>\n",
       "      <td>13217.0</td>\n",
       "      <td>417.0</td>\n",
       "      <td>3.155028</td>\n",
       "      <td>82.0</td>\n",
       "      <td>0.620413</td>\n",
       "    </tr>\n",
       "    <tr>\n",
       "      <th>TTGGGTACACGACAAG-1_1</th>\n",
       "      <td>False</td>\n",
       "      <td>4900</td>\n",
       "      <td>15220.0</td>\n",
       "      <td>3.0</td>\n",
       "      <td>0.019711</td>\n",
       "      <td>5.0</td>\n",
       "      <td>0.032852</td>\n",
       "    </tr>\n",
       "    <tr>\n",
       "      <th>TAACTTCCAACCACGC-1_1</th>\n",
       "      <td>False</td>\n",
       "      <td>5158</td>\n",
       "      <td>15645.0</td>\n",
       "      <td>221.0</td>\n",
       "      <td>1.412592</td>\n",
       "      <td>211.0</td>\n",
       "      <td>1.348674</td>\n",
       "    </tr>\n",
       "    <tr>\n",
       "      <th>ATTCACTGTAACAGGC-1_1</th>\n",
       "      <td>False</td>\n",
       "      <td>6686</td>\n",
       "      <td>19020.0</td>\n",
       "      <td>404.0</td>\n",
       "      <td>2.124080</td>\n",
       "      <td>115.0</td>\n",
       "      <td>0.604627</td>\n",
       "    </tr>\n",
       "    <tr>\n",
       "      <th>TAGGTACCATGGCCAC-1_1</th>\n",
       "      <td>False</td>\n",
       "      <td>6764</td>\n",
       "      <td>24256.0</td>\n",
       "      <td>153.0</td>\n",
       "      <td>0.630772</td>\n",
       "      <td>55.0</td>\n",
       "      <td>0.226748</td>\n",
       "    </tr>\n",
       "  </tbody>\n",
       "</table>\n",
       "<p>6099 rows × 7 columns</p>\n",
       "</div>"
      ],
      "text/plain": [
       "                      doublet  n_genes_by_counts  total_counts  \\\n",
       "TGGTACAGTTGGTGTT-1_1    False                323         401.0   \n",
       "CTCAACCGTTTGGGAG-1_1    False                325         401.0   \n",
       "GTCGTTCTCCAAGGGA-1_1    False                300         401.0   \n",
       "CGAGAAGGTGAACTAA-1_1    False                308         401.0   \n",
       "CAGGGCTTCATGCGGC-1_1    False                330         401.0   \n",
       "...                       ...                ...           ...   \n",
       "AGGCCACAGAGTCACG-1_1    False               5544       13217.0   \n",
       "TTGGGTACACGACAAG-1_1    False               4900       15220.0   \n",
       "TAACTTCCAACCACGC-1_1    False               5158       15645.0   \n",
       "ATTCACTGTAACAGGC-1_1    False               6686       19020.0   \n",
       "TAGGTACCATGGCCAC-1_1    False               6764       24256.0   \n",
       "\n",
       "                      total_counts_mt  pct_counts_mt  total_counts_ribo  \\\n",
       "TGGTACAGTTGGTGTT-1_1              0.0       0.000000                0.0   \n",
       "CTCAACCGTTTGGGAG-1_1              0.0       0.000000                0.0   \n",
       "GTCGTTCTCCAAGGGA-1_1              0.0       0.000000                0.0   \n",
       "CGAGAAGGTGAACTAA-1_1              0.0       0.000000                0.0   \n",
       "CAGGGCTTCATGCGGC-1_1              7.0       1.745636                1.0   \n",
       "...                               ...            ...                ...   \n",
       "AGGCCACAGAGTCACG-1_1            417.0       3.155028               82.0   \n",
       "TTGGGTACACGACAAG-1_1              3.0       0.019711                5.0   \n",
       "TAACTTCCAACCACGC-1_1            221.0       1.412592              211.0   \n",
       "ATTCACTGTAACAGGC-1_1            404.0       2.124080              115.0   \n",
       "TAGGTACCATGGCCAC-1_1            153.0       0.630772               55.0   \n",
       "\n",
       "                      pct_counts_ribo  \n",
       "TGGTACAGTTGGTGTT-1_1         0.000000  \n",
       "CTCAACCGTTTGGGAG-1_1         0.000000  \n",
       "GTCGTTCTCCAAGGGA-1_1         0.000000  \n",
       "CGAGAAGGTGAACTAA-1_1         0.000000  \n",
       "CAGGGCTTCATGCGGC-1_1         0.249377  \n",
       "...                               ...  \n",
       "AGGCCACAGAGTCACG-1_1         0.620413  \n",
       "TTGGGTACACGACAAG-1_1         0.032852  \n",
       "TAACTTCCAACCACGC-1_1         1.348674  \n",
       "ATTCACTGTAACAGGC-1_1         0.604627  \n",
       "TAGGTACCATGGCCAC-1_1         0.226748  \n",
       "\n",
       "[6099 rows x 7 columns]"
      ]
     },
     "execution_count": 35,
     "metadata": {},
     "output_type": "execute_result"
    }
   ],
   "source": [
    "# Sort by counts\n",
    "adata.obs.sort_values('total_counts')"
   ]
  },
  {
   "cell_type": "markdown",
   "metadata": {},
   "source": [
    "Here the data is filter at a cutoff of 400 total counts\n",
    "if it wasn't we would run\n",
    "\n",
    "sc.pp.filter_cells(adata, min_genes=200)\n",
    "picking the minimum no is arbitrary and based on the data at hand"
   ]
  },
  {
   "cell_type": "code",
   "execution_count": 36,
   "metadata": {},
   "outputs": [
    {
     "name": "stderr",
     "output_type": "stream",
     "text": [
      "/home/codespace/.local/lib/python3.10/site-packages/seaborn/axisgrid.py:118: UserWarning: The figure layout has changed to tight\n",
      "  self._figure.tight_layout(*args, **kwargs)\n"
     ]
    },
    {
     "data": {
      "image/png": "[encoded data removed]",
      "text/plain": [
       "<Figure size 2000x500 with 4 Axes>"
      ]
     },
     "metadata": {},
     "output_type": "display_data"
    }
   ],
   "source": [
    "# Plot qc metrics to get rid of outliers\n",
    "sc.pl.violin(adata, ['n_genes_by_counts', 'total_counts', 'pct_counts_mt', 'pct_counts_ribo'], jitter=0.4, multi_panel= True)\n",
    "# jitter=0.4, multi_panel= True ?"
   ]
  },
  {
   "cell_type": "markdown",
   "metadata": {},
   "source": [
    "If a cell has a significantly higher no of genes than average it's likely an artifact\n",
    "\n",
    "The same goes for counts -- no of genes and counts is highly correlated so we can filter on one of them\n",
    "\n",
    "There is a high mitochonderial percentage which could be\n",
    "1. a sequencing artifact\n",
    "2. the cell is dying\n",
    "\n",
    "usually a mitochonderial filter in set at 5-20%\n",
    "\n",
    "For ribosomal counts, most are around zero percent except for some outliers."
   ]
  },
  {
   "cell_type": "code",
   "execution_count": 37,
   "metadata": {},
   "outputs": [
    {
     "data": {
      "text/plain": [
       "2479.08"
      ]
     },
     "execution_count": 37,
     "metadata": {},
     "output_type": "execute_result"
    }
   ],
   "source": [
    "# Use numpy to get 98th percentile to filter genes based on it instead of arbitrarily picking\n",
    "import numpy as np\n",
    "\n",
    "upper_limit = np.quantile(adata.obs.n_genes_by_counts.values, .98)\n",
    "upper_limit"
   ]
  },
  {
   "cell_type": "code",
   "execution_count": 38,
   "metadata": {},
   "outputs": [],
   "source": [
    "# Filter out genes above the upper_limit\n",
    "adata = adata[adata.obs.n_genes_by_counts < upper_limit]"
   ]
  },
  {
   "cell_type": "code",
   "execution_count": 39,
   "metadata": {},
   "outputs": [
    {
     "data": {
      "text/html": [
       "<div>\n",
       "<style scoped>\n",
       "    .dataframe tbody tr th:only-of-type {\n",
       "        vertical-align: middle;\n",
       "    }\n",
       "\n",
       "    .dataframe tbody tr th {\n",
       "        vertical-align: top;\n",
       "    }\n",
       "\n",
       "    .dataframe thead th {\n",
       "        text-align: right;\n",
       "    }\n",
       "</style>\n",
       "<table border=\"1\" class=\"dataframe\">\n",
       "  <thead>\n",
       "    <tr style=\"text-align: right;\">\n",
       "      <th></th>\n",
       "      <th>doublet</th>\n",
       "      <th>n_genes_by_counts</th>\n",
       "      <th>total_counts</th>\n",
       "      <th>total_counts_mt</th>\n",
       "      <th>pct_counts_mt</th>\n",
       "      <th>total_counts_ribo</th>\n",
       "      <th>pct_counts_ribo</th>\n",
       "    </tr>\n",
       "  </thead>\n",
       "  <tbody>\n",
       "    <tr>\n",
       "      <th>CGTTCTGGTACTAGCT-1_1</th>\n",
       "      <td>False</td>\n",
       "      <td>2434</td>\n",
       "      <td>6047.0</td>\n",
       "      <td>6.0</td>\n",
       "      <td>0.099223</td>\n",
       "      <td>1.0</td>\n",
       "      <td>0.016537</td>\n",
       "    </tr>\n",
       "    <tr>\n",
       "      <th>CTGGCAGGTTCGGTAT-1_1</th>\n",
       "      <td>False</td>\n",
       "      <td>2444</td>\n",
       "      <td>5899.0</td>\n",
       "      <td>307.0</td>\n",
       "      <td>5.204272</td>\n",
       "      <td>5.0</td>\n",
       "      <td>0.084760</td>\n",
       "    </tr>\n",
       "    <tr>\n",
       "      <th>ACACCAACACAACGCC-1_1</th>\n",
       "      <td>False</td>\n",
       "      <td>2451</td>\n",
       "      <td>5497.0</td>\n",
       "      <td>0.0</td>\n",
       "      <td>0.000000</td>\n",
       "      <td>3.0</td>\n",
       "      <td>0.054575</td>\n",
       "    </tr>\n",
       "    <tr>\n",
       "      <th>CCTCAACCATACAGGG-1_1</th>\n",
       "      <td>False</td>\n",
       "      <td>2276</td>\n",
       "      <td>5434.0</td>\n",
       "      <td>38.0</td>\n",
       "      <td>0.699301</td>\n",
       "      <td>0.0</td>\n",
       "      <td>0.000000</td>\n",
       "    </tr>\n",
       "    <tr>\n",
       "      <th>ACAAAGATCCACAGGC-1_1</th>\n",
       "      <td>False</td>\n",
       "      <td>2310</td>\n",
       "      <td>5504.0</td>\n",
       "      <td>1.0</td>\n",
       "      <td>0.018169</td>\n",
       "      <td>1.0</td>\n",
       "      <td>0.018169</td>\n",
       "    </tr>\n",
       "    <tr>\n",
       "      <th>...</th>\n",
       "      <td>...</td>\n",
       "      <td>...</td>\n",
       "      <td>...</td>\n",
       "      <td>...</td>\n",
       "      <td>...</td>\n",
       "      <td>...</td>\n",
       "      <td>...</td>\n",
       "    </tr>\n",
       "    <tr>\n",
       "      <th>CGCCATTGTTTGCCGG-1_1</th>\n",
       "      <td>False</td>\n",
       "      <td>355</td>\n",
       "      <td>410.0</td>\n",
       "      <td>3.0</td>\n",
       "      <td>0.731707</td>\n",
       "      <td>0.0</td>\n",
       "      <td>0.000000</td>\n",
       "    </tr>\n",
       "    <tr>\n",
       "      <th>CACTGGGGTCTACGTA-1_1</th>\n",
       "      <td>False</td>\n",
       "      <td>346</td>\n",
       "      <td>403.0</td>\n",
       "      <td>0.0</td>\n",
       "      <td>0.000000</td>\n",
       "      <td>0.0</td>\n",
       "      <td>0.000000</td>\n",
       "    </tr>\n",
       "    <tr>\n",
       "      <th>CATACTTGTAGAGGAA-1_1</th>\n",
       "      <td>False</td>\n",
       "      <td>360</td>\n",
       "      <td>410.0</td>\n",
       "      <td>2.0</td>\n",
       "      <td>0.487805</td>\n",
       "      <td>0.0</td>\n",
       "      <td>0.000000</td>\n",
       "    </tr>\n",
       "    <tr>\n",
       "      <th>TTTGGTTTCCACGGAC-1_1</th>\n",
       "      <td>False</td>\n",
       "      <td>299</td>\n",
       "      <td>405.0</td>\n",
       "      <td>0.0</td>\n",
       "      <td>0.000000</td>\n",
       "      <td>2.0</td>\n",
       "      <td>0.493827</td>\n",
       "    </tr>\n",
       "    <tr>\n",
       "      <th>ATGCATGAGTCATGAA-1_1</th>\n",
       "      <td>False</td>\n",
       "      <td>351</td>\n",
       "      <td>411.0</td>\n",
       "      <td>0.0</td>\n",
       "      <td>0.000000</td>\n",
       "      <td>0.0</td>\n",
       "      <td>0.000000</td>\n",
       "    </tr>\n",
       "  </tbody>\n",
       "</table>\n",
       "<p>5977 rows × 7 columns</p>\n",
       "</div>"
      ],
      "text/plain": [
       "                      doublet  n_genes_by_counts  total_counts  \\\n",
       "CGTTCTGGTACTAGCT-1_1    False               2434        6047.0   \n",
       "CTGGCAGGTTCGGTAT-1_1    False               2444        5899.0   \n",
       "ACACCAACACAACGCC-1_1    False               2451        5497.0   \n",
       "CCTCAACCATACAGGG-1_1    False               2276        5434.0   \n",
       "ACAAAGATCCACAGGC-1_1    False               2310        5504.0   \n",
       "...                       ...                ...           ...   \n",
       "CGCCATTGTTTGCCGG-1_1    False                355         410.0   \n",
       "CACTGGGGTCTACGTA-1_1    False                346         403.0   \n",
       "CATACTTGTAGAGGAA-1_1    False                360         410.0   \n",
       "TTTGGTTTCCACGGAC-1_1    False                299         405.0   \n",
       "ATGCATGAGTCATGAA-1_1    False                351         411.0   \n",
       "\n",
       "                      total_counts_mt  pct_counts_mt  total_counts_ribo  \\\n",
       "CGTTCTGGTACTAGCT-1_1              6.0       0.099223                1.0   \n",
       "CTGGCAGGTTCGGTAT-1_1            307.0       5.204272                5.0   \n",
       "ACACCAACACAACGCC-1_1              0.0       0.000000                3.0   \n",
       "CCTCAACCATACAGGG-1_1             38.0       0.699301                0.0   \n",
       "ACAAAGATCCACAGGC-1_1              1.0       0.018169                1.0   \n",
       "...                               ...            ...                ...   \n",
       "CGCCATTGTTTGCCGG-1_1              3.0       0.731707                0.0   \n",
       "CACTGGGGTCTACGTA-1_1              0.0       0.000000                0.0   \n",
       "CATACTTGTAGAGGAA-1_1              2.0       0.487805                0.0   \n",
       "TTTGGTTTCCACGGAC-1_1              0.0       0.000000                2.0   \n",
       "ATGCATGAGTCATGAA-1_1              0.0       0.000000                0.0   \n",
       "\n",
       "                      pct_counts_ribo  \n",
       "CGTTCTGGTACTAGCT-1_1         0.016537  \n",
       "CTGGCAGGTTCGGTAT-1_1         0.084760  \n",
       "ACACCAACACAACGCC-1_1         0.054575  \n",
       "CCTCAACCATACAGGG-1_1         0.000000  \n",
       "ACAAAGATCCACAGGC-1_1         0.018169  \n",
       "...                               ...  \n",
       "CGCCATTGTTTGCCGG-1_1         0.000000  \n",
       "CACTGGGGTCTACGTA-1_1         0.000000  \n",
       "CATACTTGTAGAGGAA-1_1         0.000000  \n",
       "TTTGGTTTCCACGGAC-1_1         0.493827  \n",
       "ATGCATGAGTCATGAA-1_1         0.000000  \n",
       "\n",
       "[5977 rows x 7 columns]"
      ]
     },
     "execution_count": 39,
     "metadata": {},
     "output_type": "execute_result"
    }
   ],
   "source": [
    "adata.obs"
   ]
  },
  {
   "cell_type": "code",
   "execution_count": 40,
   "metadata": {},
   "outputs": [],
   "source": [
    "# Filter out mt and ribo\n",
    "\n",
    "adata = adata[adata.obs.pct_counts_mt < 20]\n",
    "adata = adata[adata.obs.pct_counts_ribo < 2]"
   ]
  },
  {
   "cell_type": "code",
   "execution_count": 41,
   "metadata": {},
   "outputs": [
    {
     "data": {
      "text/plain": [
       "View of AnnData object with n_obs × n_vars = 5960 × 24660\n",
       "    obs: 'doublet', 'n_genes_by_counts', 'total_counts', 'total_counts_mt', 'pct_counts_mt', 'total_counts_ribo', 'pct_counts_ribo'\n",
       "    var: 'mt', 'ribo', 'n_cells_by_counts', 'mean_counts', 'pct_dropout_by_counts', 'total_counts', 'n_cells'"
      ]
     },
     "execution_count": 41,
     "metadata": {},
     "output_type": "execute_result"
    }
   ],
   "source": [
    "adata"
   ]
  },
  {
   "cell_type": "markdown",
   "metadata": {},
   "source": [
    "# Normalization"
   ]
  },
  {
   "cell_type": "markdown",
   "metadata": {},
   "source": [
    "There is always a variation between cells even cells of the same type due to sequencing biases #among other things.\n",
    "\n",
    "Normalization: To even out the sizable amount of variation between cells then we can compare cells and genes.\n"
   ]
  },
  {
   "cell_type": "code",
   "execution_count": 42,
   "metadata": {},
   "outputs": [
    {
     "data": {
      "text/plain": [
       "array([6043., 5895., 5496., ...,  410.,  405.,  410.], dtype=float32)"
      ]
     },
     "execution_count": 42,
     "metadata": {},
     "output_type": "execute_result"
    }
   ],
   "source": [
    "# The expression adata.X.sum(axis = 1) in Python will calculate the sum of all the genes in each cell\n",
    "# adata object is an AnnData object\n",
    "# The X attribute of the adata object is a NumPy array that contains the expression levels of all the genes in all the cells\n",
    "# The sum() function will calculate the sum of all the elements in an array\n",
    "# The axis = 1 argument to the sum() function tells the function to sum along the rows of the array\n",
    "\n",
    "adata.X.sum(axis = 1)"
   ]
  },
  {
   "cell_type": "markdown",
   "metadata": {},
   "source": [
    "\n",
    "For example, if the adata object has 100 cells and 10,000 genes, the expression levels of the genes in the first cell will be stored in the first row of the X array. The expression levels of the genes in the second cell will be stored in the second row of the X array, and so on. The expression levels of all the genes in the first cell can be calculated by calling the sum() function on the first row of the X array.\n",
    "\n",
    " In AnnData, axis=0 means gene-wise and axis=1 means cell-wise\n",
    "\n",
    " One possible reason to use adata.X.sum(axis = 1) is to calculate the total counts or total unique molecular identifiers (UMIs) for each cell, which can be used as a quality control metric or a normalization factor.\n",
    "\n",
    "For example, if you have an AnnData object with 10,000 cells and 20,000 genes, and the X attribute contains the UMI counts for each gene-cell pair, then adata.X.sum(axis = 1) will return an array with 10,000 values, each representing the total UMIs for one cell. You can then use this array to filter out low-quality cells with too few or too many UMIs, or to scale the expression values of each cell by its total UMIs."
   ]
  },
  {
   "cell_type": "code",
   "execution_count": 43,
   "metadata": {},
   "outputs": [
    {
     "name": "stderr",
     "output_type": "stream",
     "text": [
      "/home/codespace/.python/current/lib/python3.10/site-packages/scanpy/preprocessing/_normalization.py:169: UserWarning: Received a view of an AnnData. Making a copy.\n",
      "  view_to_actual(adata)\n"
     ]
    }
   ],
   "source": [
    "# Normalize counts in each cells -- So that their total counts add up to the same value\n",
    "\n",
    "sc.pp.normalize_total(adata, target_sum = 1e4) # Normalize each cell to 10,000 UMI"
   ]
  },
  {
   "cell_type": "code",
   "execution_count": 44,
   "metadata": {},
   "outputs": [
    {
     "data": {
      "text/plain": [
       "array([10000., 10000., 10000., ..., 10000., 10000., 10000.], dtype=float32)"
      ]
     },
     "execution_count": 44,
     "metadata": {},
     "output_type": "execute_result"
    }
   ],
   "source": [
    "# Check the sum of cell count?\n",
    "adata.X.sum(axis = 1)"
   ]
  },
  {
   "cell_type": "code",
   "execution_count": 45,
   "metadata": {},
   "outputs": [],
   "source": [
    "sc.pp.log1p(adata) # Change to log counts"
   ]
  },
  {
   "cell_type": "code",
   "execution_count": 46,
   "metadata": {},
   "outputs": [
    {
     "data": {
      "text/plain": [
       "array([3155.047  , 3218.0122 , 3416.0486 , ..., 1191.2708 , 1022.75116,\n",
       "       1162.8785 ], dtype=float32)"
      ]
     },
     "execution_count": 46,
     "metadata": {},
     "output_type": "execute_result"
    }
   ],
   "source": [
    "adata.X.sum(axis = 1)"
   ]
  },
  {
   "cell_type": "markdown",
   "metadata": {},
   "source": [
    "#### imprtant - Freeze the data before starting filtering based on variable genes, regessing out data, scaling data"
   ]
  },
  {
   "cell_type": "code",
   "execution_count": 47,
   "metadata": {},
   "outputs": [],
   "source": [
    "adata.raw = adata # All the SC analysis will use the raw data"
   ]
  },
  {
   "cell_type": "markdown",
   "metadata": {},
   "source": [
    "## Clustering\n",
    "\n",
    "1. Find the most variable 2000 genes"
   ]
  },
  {
   "cell_type": "code",
   "execution_count": 48,
   "metadata": {},
   "outputs": [],
   "source": [
    "sc.pp.highly_variable_genes(adata, n_top_genes = 2000)"
   ]
  },
  {
   "cell_type": "markdown",
   "metadata": {},
   "source": [
    "after we run adata.var we find new statistical columns (highly variable = True of False, mean, dispersions, dispersion_norm)"
   ]
  },
  {
   "cell_type": "code",
   "execution_count": 49,
   "metadata": {},
   "outputs": [
    {
     "data": {
      "text/html": [
       "<div>\n",
       "<style scoped>\n",
       "    .dataframe tbody tr th:only-of-type {\n",
       "        vertical-align: middle;\n",
       "    }\n",
       "\n",
       "    .dataframe tbody tr th {\n",
       "        vertical-align: top;\n",
       "    }\n",
       "\n",
       "    .dataframe thead th {\n",
       "        text-align: right;\n",
       "    }\n",
       "</style>\n",
       "<table border=\"1\" class=\"dataframe\">\n",
       "  <thead>\n",
       "    <tr style=\"text-align: right;\">\n",
       "      <th></th>\n",
       "      <th>mt</th>\n",
       "      <th>ribo</th>\n",
       "      <th>n_cells_by_counts</th>\n",
       "      <th>mean_counts</th>\n",
       "      <th>pct_dropout_by_counts</th>\n",
       "      <th>total_counts</th>\n",
       "      <th>n_cells</th>\n",
       "      <th>highly_variable</th>\n",
       "      <th>means</th>\n",
       "      <th>dispersions</th>\n",
       "      <th>dispersions_norm</th>\n",
       "    </tr>\n",
       "  </thead>\n",
       "  <tbody>\n",
       "    <tr>\n",
       "      <th>AL627309.1</th>\n",
       "      <td>False</td>\n",
       "      <td>False</td>\n",
       "      <td>8</td>\n",
       "      <td>0.001312</td>\n",
       "      <td>99.868831</td>\n",
       "      <td>8.0</td>\n",
       "      <td>8</td>\n",
       "      <td>False</td>\n",
       "      <td>0.011136</td>\n",
       "      <td>2.697174</td>\n",
       "      <td>1.153160</td>\n",
       "    </tr>\n",
       "    <tr>\n",
       "      <th>AL627309.5</th>\n",
       "      <td>False</td>\n",
       "      <td>False</td>\n",
       "      <td>33</td>\n",
       "      <td>0.005411</td>\n",
       "      <td>99.458928</td>\n",
       "      <td>33.0</td>\n",
       "      <td>33</td>\n",
       "      <td>False</td>\n",
       "      <td>0.028855</td>\n",
       "      <td>2.254608</td>\n",
       "      <td>-0.150810</td>\n",
       "    </tr>\n",
       "    <tr>\n",
       "      <th>AL627309.4</th>\n",
       "      <td>False</td>\n",
       "      <td>False</td>\n",
       "      <td>4</td>\n",
       "      <td>0.000656</td>\n",
       "      <td>99.934415</td>\n",
       "      <td>4.0</td>\n",
       "      <td>4</td>\n",
       "      <td>False</td>\n",
       "      <td>0.002331</td>\n",
       "      <td>1.702854</td>\n",
       "      <td>-1.776493</td>\n",
       "    </tr>\n",
       "    <tr>\n",
       "      <th>LINC01409</th>\n",
       "      <td>False</td>\n",
       "      <td>False</td>\n",
       "      <td>274</td>\n",
       "      <td>0.048697</td>\n",
       "      <td>95.507460</td>\n",
       "      <td>297.0</td>\n",
       "      <td>274</td>\n",
       "      <td>False</td>\n",
       "      <td>0.270478</td>\n",
       "      <td>2.286819</td>\n",
       "      <td>-0.055904</td>\n",
       "    </tr>\n",
       "    <tr>\n",
       "      <th>FAM87B</th>\n",
       "      <td>False</td>\n",
       "      <td>False</td>\n",
       "      <td>6</td>\n",
       "      <td>0.000984</td>\n",
       "      <td>99.901623</td>\n",
       "      <td>6.0</td>\n",
       "      <td>6</td>\n",
       "      <td>False</td>\n",
       "      <td>0.006682</td>\n",
       "      <td>1.947490</td>\n",
       "      <td>-1.055700</td>\n",
       "    </tr>\n",
       "    <tr>\n",
       "      <th>...</th>\n",
       "      <td>...</td>\n",
       "      <td>...</td>\n",
       "      <td>...</td>\n",
       "      <td>...</td>\n",
       "      <td>...</td>\n",
       "      <td>...</td>\n",
       "      <td>...</td>\n",
       "      <td>...</td>\n",
       "      <td>...</td>\n",
       "      <td>...</td>\n",
       "      <td>...</td>\n",
       "    </tr>\n",
       "    <tr>\n",
       "      <th>AL354822.1</th>\n",
       "      <td>False</td>\n",
       "      <td>False</td>\n",
       "      <td>133</td>\n",
       "      <td>0.022627</td>\n",
       "      <td>97.819315</td>\n",
       "      <td>138.0</td>\n",
       "      <td>133</td>\n",
       "      <td>False</td>\n",
       "      <td>0.153974</td>\n",
       "      <td>2.375807</td>\n",
       "      <td>0.206288</td>\n",
       "    </tr>\n",
       "    <tr>\n",
       "      <th>AL592183.1</th>\n",
       "      <td>False</td>\n",
       "      <td>False</td>\n",
       "      <td>1003</td>\n",
       "      <td>0.198721</td>\n",
       "      <td>83.554681</td>\n",
       "      <td>1212.0</td>\n",
       "      <td>1003</td>\n",
       "      <td>False</td>\n",
       "      <td>0.875225</td>\n",
       "      <td>2.469386</td>\n",
       "      <td>-0.406744</td>\n",
       "    </tr>\n",
       "    <tr>\n",
       "      <th>AC240274.1</th>\n",
       "      <td>False</td>\n",
       "      <td>False</td>\n",
       "      <td>162</td>\n",
       "      <td>0.027382</td>\n",
       "      <td>97.343827</td>\n",
       "      <td>167.0</td>\n",
       "      <td>162</td>\n",
       "      <td>False</td>\n",
       "      <td>0.150268</td>\n",
       "      <td>2.265893</td>\n",
       "      <td>-0.117561</td>\n",
       "    </tr>\n",
       "    <tr>\n",
       "      <th>AC007325.4</th>\n",
       "      <td>False</td>\n",
       "      <td>False</td>\n",
       "      <td>4</td>\n",
       "      <td>0.000656</td>\n",
       "      <td>99.934415</td>\n",
       "      <td>4.0</td>\n",
       "      <td>4</td>\n",
       "      <td>False</td>\n",
       "      <td>0.002801</td>\n",
       "      <td>1.579830</td>\n",
       "      <td>-2.138971</td>\n",
       "    </tr>\n",
       "    <tr>\n",
       "      <th>AC007325.2</th>\n",
       "      <td>False</td>\n",
       "      <td>False</td>\n",
       "      <td>6</td>\n",
       "      <td>0.000984</td>\n",
       "      <td>99.901623</td>\n",
       "      <td>6.0</td>\n",
       "      <td>6</td>\n",
       "      <td>False</td>\n",
       "      <td>0.005905</td>\n",
       "      <td>1.995288</td>\n",
       "      <td>-0.914870</td>\n",
       "    </tr>\n",
       "  </tbody>\n",
       "</table>\n",
       "<p>24660 rows × 11 columns</p>\n",
       "</div>"
      ],
      "text/plain": [
       "               mt   ribo  n_cells_by_counts  mean_counts  \\\n",
       "AL627309.1  False  False                  8     0.001312   \n",
       "AL627309.5  False  False                 33     0.005411   \n",
       "AL627309.4  False  False                  4     0.000656   \n",
       "LINC01409   False  False                274     0.048697   \n",
       "FAM87B      False  False                  6     0.000984   \n",
       "...           ...    ...                ...          ...   \n",
       "AL354822.1  False  False                133     0.022627   \n",
       "AL592183.1  False  False               1003     0.198721   \n",
       "AC240274.1  False  False                162     0.027382   \n",
       "AC007325.4  False  False                  4     0.000656   \n",
       "AC007325.2  False  False                  6     0.000984   \n",
       "\n",
       "            pct_dropout_by_counts  total_counts  n_cells  highly_variable  \\\n",
       "AL627309.1              99.868831           8.0        8            False   \n",
       "AL627309.5              99.458928          33.0       33            False   \n",
       "AL627309.4              99.934415           4.0        4            False   \n",
       "LINC01409               95.507460         297.0      274            False   \n",
       "FAM87B                  99.901623           6.0        6            False   \n",
       "...                           ...           ...      ...              ...   \n",
       "AL354822.1              97.819315         138.0      133            False   \n",
       "AL592183.1              83.554681        1212.0     1003            False   \n",
       "AC240274.1              97.343827         167.0      162            False   \n",
       "AC007325.4              99.934415           4.0        4            False   \n",
       "AC007325.2              99.901623           6.0        6            False   \n",
       "\n",
       "               means  dispersions  dispersions_norm  \n",
       "AL627309.1  0.011136     2.697174          1.153160  \n",
       "AL627309.5  0.028855     2.254608         -0.150810  \n",
       "AL627309.4  0.002331     1.702854         -1.776493  \n",
       "LINC01409   0.270478     2.286819         -0.055904  \n",
       "FAM87B      0.006682     1.947490         -1.055700  \n",
       "...              ...          ...               ...  \n",
       "AL354822.1  0.153974     2.375807          0.206288  \n",
       "AL592183.1  0.875225     2.469386         -0.406744  \n",
       "AC240274.1  0.150268     2.265893         -0.117561  \n",
       "AC007325.4  0.002801     1.579830         -2.138971  \n",
       "AC007325.2  0.005905     1.995288         -0.914870  \n",
       "\n",
       "[24660 rows x 11 columns]"
      ]
     },
     "execution_count": 49,
     "metadata": {},
     "output_type": "execute_result"
    }
   ],
   "source": [
    "adata.var"
   ]
  },
  {
   "cell_type": "code",
   "execution_count": 50,
   "metadata": {},
   "outputs": [
    {
     "data": {
      "image/png": "[encoded data removed]",
      "text/plain": [
       "<Figure size 1280x480 with 2 Axes>"
      ]
     },
     "metadata": {},
     "output_type": "display_data"
    }
   ],
   "source": [
    "sc.pl.highly_variable_genes(adata)\n",
    "# Genes with higher dispersion were marked as variable genes\n",
    "# This is a way to reduce the number of dimesnions in the data from 24,000 genes to 10x reduction"
   ]
  },
  {
   "cell_type": "code",
   "execution_count": 51,
   "metadata": {},
   "outputs": [],
   "source": [
    "# Filter out not highly variable genes\n",
    "adata = adata[:, adata.var.highly_variable]"
   ]
  },
  {
   "cell_type": "code",
   "execution_count": 52,
   "metadata": {},
   "outputs": [
    {
     "data": {
      "text/plain": [
       "View of AnnData object with n_obs × n_vars = 5960 × 2000\n",
       "    obs: 'doublet', 'n_genes_by_counts', 'total_counts', 'total_counts_mt', 'pct_counts_mt', 'total_counts_ribo', 'pct_counts_ribo'\n",
       "    var: 'mt', 'ribo', 'n_cells_by_counts', 'mean_counts', 'pct_dropout_by_counts', 'total_counts', 'n_cells', 'highly_variable', 'means', 'dispersions', 'dispersions_norm'\n",
       "    uns: 'log1p', 'hvg'"
      ]
     },
     "execution_count": 52,
     "metadata": {},
     "output_type": "execute_result"
    }
   ],
   "source": [
    "adata"
   ]
  },
  {
   "cell_type": "code",
   "execution_count": 53,
   "metadata": {},
   "outputs": [],
   "source": [
    "# regress out the differences that arised from 🔽\n",
    "# get rid of the variations in the data due to proces sample quality seq artifacts\n",
    "sc.pp.regress_out(adata, ['total_counts', 'pct_counts_mt', 'pct_counts_ribo'])"
   ]
  },
  {
   "cell_type": "code",
   "execution_count": 54,
   "metadata": {},
   "outputs": [],
   "source": [
    "# Normalize each gene to the unit variants of that gene\n",
    "sc.pp.scale(adata, max_value = 10)"
   ]
  },
  {
   "cell_type": "code",
   "execution_count": 55,
   "metadata": {},
   "outputs": [],
   "source": [
    "# PCA to further reduce the dimensions of the data\n",
    "sc.tl.pca(adata, svd_solver = 'arpack')"
   ]
  },
  {
   "cell_type": "code",
   "execution_count": 56,
   "metadata": {},
   "outputs": [
    {
     "data": {
      "image/png": "[encoded data removed]",
      "text/plain": [
       "<Figure size 640x480 with 1 Axes>"
      ]
     },
     "metadata": {},
     "output_type": "display_data"
    }
   ],
   "source": [
    "sc.pl.pca_variance_ratio(adata, log = True, n_pcs=50)"
   ]
  },
  {
   "cell_type": "code",
   "execution_count": 57,
   "metadata": {},
   "outputs": [
    {
     "name": "stderr",
     "output_type": "stream",
     "text": [
      "/home/codespace/.python/current/lib/python3.10/site-packages/umap/distances.py:1063: NumbaDeprecationWarning: \u001b[1mThe 'nopython' keyword argument was not supplied to the 'numba.jit' decorator. The implicit default value for this argument is currently False, but it will be changed to True in Numba 0.59.0. See https://numba.readthedocs.io/en/stable/reference/deprecation.html#deprecation-of-object-mode-fall-back-behaviour-when-using-jit for details.\u001b[0m\n",
      "  @numba.jit()\n",
      "/home/codespace/.python/current/lib/python3.10/site-packages/umap/distances.py:1071: NumbaDeprecationWarning: \u001b[1mThe 'nopython' keyword argument was not supplied to the 'numba.jit' decorator. The implicit default value for this argument is currently False, but it will be changed to True in Numba 0.59.0. See https://numba.readthedocs.io/en/stable/reference/deprecation.html#deprecation-of-object-mode-fall-back-behaviour-when-using-jit for details.\u001b[0m\n",
      "  @numba.jit()\n",
      "/home/codespace/.python/current/lib/python3.10/site-packages/umap/distances.py:1086: NumbaDeprecationWarning: \u001b[1mThe 'nopython' keyword argument was not supplied to the 'numba.jit' decorator. The implicit default value for this argument is currently False, but it will be changed to True in Numba 0.59.0. See https://numba.readthedocs.io/en/stable/reference/deprecation.html#deprecation-of-object-mode-fall-back-behaviour-when-using-jit for details.\u001b[0m\n",
      "  @numba.jit()\n",
      "/home/codespace/.python/current/lib/python3.10/site-packages/umap/umap_.py:660: NumbaDeprecationWarning: \u001b[1mThe 'nopython' keyword argument was not supplied to the 'numba.jit' decorator. The implicit default value for this argument is currently False, but it will be changed to True in Numba 0.59.0. See https://numba.readthedocs.io/en/stable/reference/deprecation.html#deprecation-of-object-mode-fall-back-behaviour-when-using-jit for details.\u001b[0m\n",
      "  @numba.jit()\n"
     ]
    }
   ],
   "source": [
    "# Calculate neighbors of the cells using to 30 pcs we selected\n",
    "sc.pp.neighbors(adata, n_pcs = 30)"
   ]
  },
  {
   "cell_type": "code",
   "execution_count": 58,
   "metadata": {},
   "outputs": [
    {
     "data": {
      "text/plain": [
       "AnnData object with n_obs × n_vars = 5960 × 2000\n",
       "    obs: 'doublet', 'n_genes_by_counts', 'total_counts', 'total_counts_mt', 'pct_counts_mt', 'total_counts_ribo', 'pct_counts_ribo'\n",
       "    var: 'mt', 'ribo', 'n_cells_by_counts', 'mean_counts', 'pct_dropout_by_counts', 'total_counts', 'n_cells', 'highly_variable', 'means', 'dispersions', 'dispersions_norm', 'mean', 'std'\n",
       "    uns: 'log1p', 'hvg', 'pca', 'neighbors'\n",
       "    obsm: 'X_pca'\n",
       "    varm: 'PCs'\n",
       "    obsp: 'distances', 'connectivities'"
      ]
     },
     "execution_count": 58,
     "metadata": {},
     "output_type": "execute_result"
    }
   ],
   "source": [
    "# What are neighbors?\n",
    "adata\n",
    "# neighborhood matrices (obsp): distances, connectivities = cells by cell matrix\n",
    "# each cell connected will get a difference"
   ]
  },
  {
   "cell_type": "code",
   "execution_count": 59,
   "metadata": {},
   "outputs": [
    {
     "data": {
      "text/plain": [
       "<5960x5960 sparse matrix of type '<class 'numpy.float32'>'\n",
       "\twith 123616 stored elements in Compressed Sparse Row format>"
      ]
     },
     "execution_count": 59,
     "metadata": {},
     "output_type": "execute_result"
    }
   ],
   "source": [
    "adata.obsp['connectivities']"
   ]
  },
  {
   "cell_type": "code",
   "execution_count": 60,
   "metadata": {},
   "outputs": [
    {
     "data": {
      "text/plain": [
       "array([[0.        , 0.05613239, 0.        , ..., 0.        , 0.        ,\n",
       "        0.        ],\n",
       "       [0.05613239, 0.        , 0.        , ..., 0.        , 0.        ,\n",
       "        0.        ],\n",
       "       [0.        , 0.        , 0.        , ..., 0.        , 0.        ,\n",
       "        0.        ],\n",
       "       ...,\n",
       "       [0.        , 0.        , 0.        , ..., 0.        , 0.        ,\n",
       "        0.        ],\n",
       "       [0.        , 0.        , 0.        , ..., 0.        , 0.        ,\n",
       "        0.        ],\n",
       "       [0.        , 0.        , 0.        , ..., 0.        , 0.        ,\n",
       "        0.        ]], dtype=float32)"
      ]
     },
     "execution_count": 60,
     "metadata": {},
     "output_type": "execute_result"
    }
   ],
   "source": [
    "adata.obsp['connectivities'].toarray()"
   ]
  },
  {
   "cell_type": "code",
   "execution_count": 61,
   "metadata": {},
   "outputs": [
    {
     "data": {
      "text/plain": [
       "array([[ 0.        ,  0.        ,  0.        , ...,  0.        ,\n",
       "         0.        ,  0.        ],\n",
       "       [11.20107079,  0.        ,  0.        , ...,  0.        ,\n",
       "         0.        ,  0.        ],\n",
       "       [ 0.        ,  0.        ,  0.        , ...,  0.        ,\n",
       "         0.        ,  0.        ],\n",
       "       ...,\n",
       "       [ 0.        ,  0.        ,  0.        , ...,  0.        ,\n",
       "         0.        ,  0.        ],\n",
       "       [ 0.        ,  0.        ,  0.        , ...,  0.        ,\n",
       "         0.        ,  0.        ],\n",
       "       [ 0.        ,  0.        ,  0.        , ...,  0.        ,\n",
       "         0.        ,  0.        ]])"
      ]
     },
     "execution_count": 61,
     "metadata": {},
     "output_type": "execute_result"
    }
   ],
   "source": [
    "adata.obsp['distances'].toarray()"
   ]
  },
  {
   "cell_type": "code",
   "execution_count": 62,
   "metadata": {},
   "outputs": [],
   "source": [
    "# Use umap function to project the data from 30 dimensions to 2 dimensions\n",
    "sc.tl.umap(adata)"
   ]
  },
  {
   "cell_type": "code",
   "execution_count": 63,
   "metadata": {},
   "outputs": [
    {
     "name": "stderr",
     "output_type": "stream",
     "text": [
      "/home/codespace/.python/current/lib/python3.10/site-packages/scanpy/plotting/_tools/scatterplots.py:391: UserWarning: No data for colormapping provided via 'c'. Parameters 'cmap', 'norm' will be ignored\n",
      "  cax = scatter(\n"
     ]
    },
    {
     "data": {
      "image/png": "[encoded data removed]",
      "text/plain": [
       "<Figure size 640x480 with 1 Axes>"
      ]
     },
     "metadata": {},
     "output_type": "display_data"
    }
   ],
   "source": [
    "sc.pl.umap(adata)"
   ]
  },
  {
   "cell_type": "code",
   "execution_count": 64,
   "metadata": {},
   "outputs": [
    {
     "name": "stdout",
     "output_type": "stream",
     "text": [
      "Collecting leidenalg\n",
      "  Obtaining dependency information for leidenalg from https://files.pythonhosted.org/packages/24/76/0dc45c635cd46a18c77104da0c7ee03076e501b65aa4c8c809b75f9bd0f6/leidenalg-0.10.1-cp38-abi3-manylinux_2_17_x86_64.manylinux2014_x86_64.whl.metadata\n",
      "  Downloading leidenalg-0.10.1-cp38-abi3-manylinux_2_17_x86_64.manylinux2014_x86_64.whl.metadata (10 kB)\n",
      "Collecting igraph<0.11,>=0.10.0 (from leidenalg)\n",
      "  Obtaining dependency information for igraph<0.11,>=0.10.0 from https://files.pythonhosted.org/packages/e4/00/dd03a33a26d684cfdeab9b408daf480fcef1605e3e213c1936728b4e7673/igraph-0.10.6-cp39-abi3-manylinux_2_17_x86_64.manylinux2014_x86_64.whl.metadata\n",
      "  Downloading igraph-0.10.6-cp39-abi3-manylinux_2_17_x86_64.manylinux2014_x86_64.whl.metadata (3.8 kB)\n",
      "Collecting texttable>=1.6.2 (from igraph<0.11,>=0.10.0->leidenalg)\n",
      "  Downloading texttable-1.6.7-py2.py3-none-any.whl (10 kB)\n",
      "Downloading leidenalg-0.10.1-cp38-abi3-manylinux_2_17_x86_64.manylinux2014_x86_64.whl (2.0 MB)\n",
      "\u001b[2K   \u001b[90m━━━━━━━━━━━━━━━━━━━━━━━━━━━━━━━━━━━━━━━━\u001b[0m \u001b[32m2.0/2.0 MB\u001b[0m \u001b[31m37.2 MB/s\u001b[0m eta \u001b[36m0:00:00\u001b[0m:00:01\u001b[0m\n",
      "\u001b[?25hDownloading igraph-0.10.6-cp39-abi3-manylinux_2_17_x86_64.manylinux2014_x86_64.whl (3.3 MB)\n",
      "\u001b[2K   \u001b[90m━━━━━━━━━━━━━━━━━━━━━━━━━━━━━━━━━━━━━━━━\u001b[0m \u001b[32m3.3/3.3 MB\u001b[0m \u001b[31m54.1 MB/s\u001b[0m eta \u001b[36m0:00:00\u001b[0m:00:01\u001b[0m\n",
      "\u001b[?25hInstalling collected packages: texttable, igraph, leidenalg\n",
      "Successfully installed igraph-0.10.6 leidenalg-0.10.1 texttable-1.6.7\n"
     ]
    },
    {
     "name": "stdout",
     "output_type": "stream",
     "text": [
      "Note: you may need to restart the kernel to use updated packages.\n"
     ]
    }
   ],
   "source": [
    "%pip install leidenalg"
   ]
  },
  {
   "cell_type": "code",
   "execution_count": 65,
   "metadata": {},
   "outputs": [],
   "source": [
    "# resolution closer to 1 = more clusters\n",
    "# closer to 0 = fewer clusters\n",
    "sc.tl.leiden(adata, resolution = 0.5)"
   ]
  },
  {
   "cell_type": "code",
   "execution_count": 66,
   "metadata": {},
   "outputs": [
    {
     "name": "stderr",
     "output_type": "stream",
     "text": [
      "/home/codespace/.python/current/lib/python3.10/site-packages/scanpy/plotting/_tools/scatterplots.py:391: UserWarning: No data for colormapping provided via 'c'. Parameters 'cmap' will be ignored\n",
      "  cax = scatter(\n"
     ]
    },
    {
     "data": {
      "image/png": "[encoded data removed]",
      "text/plain": [
       "<Figure size 640x480 with 1 Axes>"
      ]
     },
     "metadata": {},
     "output_type": "display_data"
    }
   ],
   "source": [
    "# Plot umap and color the cells based on leiden label\n",
    "sc.pl.umap(adata, color = 'leiden')"
   ]
  },
  {
   "cell_type": "code",
   "execution_count": 67,
   "metadata": {},
   "outputs": [
    {
     "name": "stdout",
     "output_type": "stream",
     "text": [
      "False\n"
     ]
    }
   ],
   "source": [
    "!python -c \"import torch; print(torch.cuda.is_available())\""
   ]
  },
  {
   "cell_type": "code",
   "execution_count": 68,
   "metadata": {
    "scrolled": true
   },
   "outputs": [
    {
     "name": "stdout",
     "output_type": "stream",
     "text": [
      "\u001b[33mWARNING: Package(s) not found: dill\u001b[0m\u001b[33m\n",
      "\u001b[0m"
     ]
    }
   ],
   "source": [
    "!pip show dill\n"
   ]
  },
  {
   "cell_type": "markdown",
   "metadata": {},
   "source": [
    "## Integration"
   ]
  },
  {
   "cell_type": "code",
   "execution_count": 70,
   "metadata": {},
   "outputs": [],
   "source": [
    "def pp(csv_path):\n",
    "    adata = sc.read_csv(csv_path).T\n",
    "    sc.pp.filter_genes(adata, min_cells = 10)\n",
    "    sc.pp.highly_variable_genes(adata, n_top_genes = 2000, subset = True, flavor = 'seurat_v3')\n",
    "    scvi.model.SCVI.setup_anndata(adata)\n",
    "    vae = scvi.model.SCVI(adata)\n",
    "    vae.train()\n",
    "    solo = scvi.external.SOLO.from_scvi_model(vae)\n",
    "    solo.train()\n",
    "    df = solo.predict()\n",
    "    df['prediction'] = solo.predict(soft = False)\n",
    "    df.index = df.index.map(lambda x: x[:-2])\n",
    "    df['dif'] = df.doublet - df.singlet\n",
    "    doublets = df[(df.prediction == 'doublet') & (df.dif > 1)]\n",
    "    \n",
    "    adata = sc.read_csv(csv_path).T\n",
    "    adata.obs['Sample'] = csv_path.split('_')[2] #'raw_counts/GSM5226574_C51ctr_raw_counts.csv'\n",
    "    \n",
    "    adata.obs['doublet'] = adata.obs.index.isin(doublets.index)\n",
    "    adata = adata[~adata.obs.doublet]\n",
    "    \n",
    "    \n",
    "    sc.pp.filter_cells(adata, min_genes=200) #get rid of cells with fewer than 200 genes\n",
    "    #sc.pp.filter_genes(adata, min_cells=3) #get rid of genes that are found in fewer than 3 cells\n",
    "    adata.var['mt'] = adata.var_names.str.startswith('mt-')  # annotate the group of mitochondrial genes as 'mt'\n",
    "    adata.var['ribo'] = adata.var_names.isin(ribo_genes[0].values)\n",
    "    sc.pp.calculate_qc_metrics(adata, qc_vars=['mt', 'ribo'], percent_top=None, log1p=False, inplace=True)\n",
    "    upper_lim = np.quantile(adata.obs.n_genes_by_counts.values, .98)\n",
    "    adata = adata[adata.obs.n_genes_by_counts < upper_lim]\n",
    "    adata = adata[adata.obs.pct_counts_mt < 20]\n",
    "    adata = adata[adata.obs.pct_counts_ribo < 2]\n",
    "    \n",
    "    return adata\n",
    "\n"
   ]
  },
  {
   "cell_type": "code",
   "execution_count": 71,
   "metadata": {},
   "outputs": [],
   "source": [
    "import os"
   ]
  },
  {
   "cell_type": "code",
   "execution_count": 73,
   "metadata": {},
   "outputs": [
    {
     "ename": "NameError",
     "evalue": "name 'out' is not defined",
     "output_type": "error",
     "traceback": [
      "\u001b[0;31m---------------------------------------------------------------------------\u001b[0m",
      "\u001b[0;31mNameError\u001b[0m                                 Traceback (most recent call last)",
      "Cell \u001b[0;32mIn[73], line 3\u001b[0m\n\u001b[1;32m      1\u001b[0m output \u001b[39m=\u001b[39m []\n\u001b[1;32m      2\u001b[0m \u001b[39mfor\u001b[39;00m file \u001b[39min\u001b[39;00m os\u001b[39m.\u001b[39mlistdir(\u001b[39m'\u001b[39m\u001b[39m/workspaces/scRNA-Sequencing-of-Human-Lung-Dataset/\u001b[39m\u001b[39m'\u001b[39m):\n\u001b[0;32m----> 3\u001b[0m     out\u001b[39m.\u001b[39mappend(pp(\u001b[39m'\u001b[39m\u001b[39m/workspaces/scRNA-Sequencing-of-Human-Lung-Dataset/\u001b[39m\u001b[39m'\u001b[39m \u001b[39m+\u001b[39m file))\n",
      "\u001b[0;31mNameError\u001b[0m: name 'out' is not defined"
     ]
    }
   ],
   "source": [
    "output = []\n",
    "for file in os.listdir('/workspaces/scRNA-Sequencing-of-Human-Lung-Dataset/'):\n",
    "    out.append(pp('/workspaces/scRNA-Sequencing-of-Human-Lung-Dataset/' + file))"
   ]
  },
  {
   "cell_type": "code",
   "execution_count": null,
   "metadata": {},
   "outputs": [],
   "source": []
  }
 ],
 "metadata": {
  "colab": {
   "provenance": [],
   "toc_visible": true
  },
  "kernelspec": {
   "display_name": "Python 3 (ipykernel)",
   "language": "python",
   "name": "python3"
  },
  "language_info": {
   "codemirror_mode": {
    "name": "ipython",
    "version": 3
   },
   "file_extension": ".py",
   "mimetype": "text/x-python",
   "name": "python",
   "nbconvert_exporter": "python",
   "pygments_lexer": "ipython3",
   "version": "3.10.8"
  }
 },
 "nbformat": 4,
 "nbformat_minor": 1
}
